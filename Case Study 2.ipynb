{
 "cells": [
  {
   "cell_type": "markdown",
   "metadata": {},
   "source": [
    "<b><center><font size=\"5\">RESTAURANT BUSINESS ANALYSIS</font></center></b> "
   ]
  },
  {
   "cell_type": "code",
   "execution_count": 1,
   "metadata": {
    "scrolled": true
   },
   "outputs": [],
   "source": [
    "#Importing libraries \n",
    "import pandas as pd\n",
    "import numpy as np\n",
    "from datetime import datetime as dt\n",
    "import matplotlib.pyplot as plt\n",
    "import seaborn as sns \n",
    "\n",
    "#set seaborn as default\n",
    "sns.set()"
   ]
  },
  {
   "cell_type": "code",
   "execution_count": 2,
   "metadata": {
    "scrolled": true
   },
   "outputs": [],
   "source": [
    "#Loading the datasets from excel \n",
    "runners = pd.read_excel(\"CS2_Dataset.xlsx\",sheet_name = 'runners')\n",
    "orders = pd.read_excel(\"CS2_Dataset.xlsx\",sheet_name = 'orders')\n",
    "runner_orders = pd.read_excel(\"CS2_Dataset.xlsx\",sheet_name = 'runner_orders')\n",
    "pizza_names = pd.read_excel(\"CS2_Dataset.xlsx\",sheet_name = 'pizza_names')\n",
    "pizza_recipes = pd.read_excel(\"CS2_Dataset.xlsx\",sheet_name = 'pizza_recipes')\n",
    "pizza_toppings = pd.read_excel(\"CS2_Dataset.xlsx\",sheet_name = 'pizza_toppings')"
   ]
  },
  {
   "cell_type": "code",
   "execution_count": 3,
   "metadata": {},
   "outputs": [
    {
     "data": {
      "text/html": [
       "<div>\n",
       "<style scoped>\n",
       "    .dataframe tbody tr th:only-of-type {\n",
       "        vertical-align: middle;\n",
       "    }\n",
       "\n",
       "    .dataframe tbody tr th {\n",
       "        vertical-align: top;\n",
       "    }\n",
       "\n",
       "    .dataframe thead th {\n",
       "        text-align: right;\n",
       "    }\n",
       "</style>\n",
       "<table border=\"1\" class=\"dataframe\">\n",
       "  <thead>\n",
       "    <tr style=\"text-align: right;\">\n",
       "      <th></th>\n",
       "      <th>runner_id</th>\n",
       "      <th>registration_date</th>\n",
       "    </tr>\n",
       "  </thead>\n",
       "  <tbody>\n",
       "    <tr>\n",
       "      <th>0</th>\n",
       "      <td>1</td>\n",
       "      <td>2021-01-01</td>\n",
       "    </tr>\n",
       "    <tr>\n",
       "      <th>1</th>\n",
       "      <td>2</td>\n",
       "      <td>2021-01-03</td>\n",
       "    </tr>\n",
       "    <tr>\n",
       "      <th>2</th>\n",
       "      <td>3</td>\n",
       "      <td>2021-01-08</td>\n",
       "    </tr>\n",
       "    <tr>\n",
       "      <th>3</th>\n",
       "      <td>4</td>\n",
       "      <td>2021-01-15</td>\n",
       "    </tr>\n",
       "  </tbody>\n",
       "</table>\n",
       "</div>"
      ],
      "text/plain": [
       "   runner_id registration_date\n",
       "0          1        2021-01-01\n",
       "1          2        2021-01-03\n",
       "2          3        2021-01-08\n",
       "3          4        2021-01-15"
      ]
     },
     "execution_count": 3,
     "metadata": {},
     "output_type": "execute_result"
    }
   ],
   "source": [
    "runners.head()"
   ]
  },
  {
   "cell_type": "code",
   "execution_count": 4,
   "metadata": {},
   "outputs": [
    {
     "data": {
      "text/html": [
       "<div>\n",
       "<style scoped>\n",
       "    .dataframe tbody tr th:only-of-type {\n",
       "        vertical-align: middle;\n",
       "    }\n",
       "\n",
       "    .dataframe tbody tr th {\n",
       "        vertical-align: top;\n",
       "    }\n",
       "\n",
       "    .dataframe thead th {\n",
       "        text-align: right;\n",
       "    }\n",
       "</style>\n",
       "<table border=\"1\" class=\"dataframe\">\n",
       "  <thead>\n",
       "    <tr style=\"text-align: right;\">\n",
       "      <th></th>\n",
       "      <th>order_id</th>\n",
       "      <th>customer_id</th>\n",
       "      <th>pizza_id</th>\n",
       "      <th>exclusions</th>\n",
       "      <th>extras</th>\n",
       "      <th>order_time</th>\n",
       "      <th>Unnamed: 6</th>\n",
       "    </tr>\n",
       "  </thead>\n",
       "  <tbody>\n",
       "    <tr>\n",
       "      <th>0</th>\n",
       "      <td>1</td>\n",
       "      <td>101</td>\n",
       "      <td>1</td>\n",
       "      <td>NaN</td>\n",
       "      <td>NaN</td>\n",
       "      <td>2021-01-01 18:05:02</td>\n",
       "      <td>1101</td>\n",
       "    </tr>\n",
       "    <tr>\n",
       "      <th>1</th>\n",
       "      <td>2</td>\n",
       "      <td>101</td>\n",
       "      <td>1</td>\n",
       "      <td>NaN</td>\n",
       "      <td>NaN</td>\n",
       "      <td>2021-01-01 19:00:52</td>\n",
       "      <td>2101</td>\n",
       "    </tr>\n",
       "    <tr>\n",
       "      <th>2</th>\n",
       "      <td>3</td>\n",
       "      <td>102</td>\n",
       "      <td>1</td>\n",
       "      <td>NaN</td>\n",
       "      <td>NaN</td>\n",
       "      <td>2021-01-02 23:51:23</td>\n",
       "      <td>3102</td>\n",
       "    </tr>\n",
       "    <tr>\n",
       "      <th>3</th>\n",
       "      <td>3</td>\n",
       "      <td>102</td>\n",
       "      <td>2</td>\n",
       "      <td>NaN</td>\n",
       "      <td>NaN</td>\n",
       "      <td>2021-01-02 23:51:23</td>\n",
       "      <td>3102</td>\n",
       "    </tr>\n",
       "    <tr>\n",
       "      <th>4</th>\n",
       "      <td>4</td>\n",
       "      <td>103</td>\n",
       "      <td>1</td>\n",
       "      <td>4</td>\n",
       "      <td>NaN</td>\n",
       "      <td>2021-01-04 13:23:46</td>\n",
       "      <td>4103</td>\n",
       "    </tr>\n",
       "  </tbody>\n",
       "</table>\n",
       "</div>"
      ],
      "text/plain": [
       "   order_id  customer_id  pizza_id exclusions extras          order_time  \\\n",
       "0         1          101         1        NaN    NaN 2021-01-01 18:05:02   \n",
       "1         2          101         1        NaN    NaN 2021-01-01 19:00:52   \n",
       "2         3          102         1        NaN    NaN 2021-01-02 23:51:23   \n",
       "3         3          102         2        NaN    NaN 2021-01-02 23:51:23   \n",
       "4         4          103         1          4    NaN 2021-01-04 13:23:46   \n",
       "\n",
       "   Unnamed: 6  \n",
       "0        1101  \n",
       "1        2101  \n",
       "2        3102  \n",
       "3        3102  \n",
       "4        4103  "
      ]
     },
     "execution_count": 4,
     "metadata": {},
     "output_type": "execute_result"
    }
   ],
   "source": [
    "orders.head()"
   ]
  },
  {
   "cell_type": "code",
   "execution_count": 5,
   "metadata": {},
   "outputs": [
    {
     "data": {
      "text/html": [
       "<div>\n",
       "<style scoped>\n",
       "    .dataframe tbody tr th:only-of-type {\n",
       "        vertical-align: middle;\n",
       "    }\n",
       "\n",
       "    .dataframe tbody tr th {\n",
       "        vertical-align: top;\n",
       "    }\n",
       "\n",
       "    .dataframe thead th {\n",
       "        text-align: right;\n",
       "    }\n",
       "</style>\n",
       "<table border=\"1\" class=\"dataframe\">\n",
       "  <thead>\n",
       "    <tr style=\"text-align: right;\">\n",
       "      <th></th>\n",
       "      <th>order_id</th>\n",
       "      <th>runner_id</th>\n",
       "      <th>pickup_time</th>\n",
       "      <th>distance</th>\n",
       "      <th>duration</th>\n",
       "      <th>cancellation</th>\n",
       "    </tr>\n",
       "  </thead>\n",
       "  <tbody>\n",
       "    <tr>\n",
       "      <th>0</th>\n",
       "      <td>1</td>\n",
       "      <td>1</td>\n",
       "      <td>2021-01-01 18:15:34</td>\n",
       "      <td>20km</td>\n",
       "      <td>32 minutes</td>\n",
       "      <td>NaN</td>\n",
       "    </tr>\n",
       "    <tr>\n",
       "      <th>1</th>\n",
       "      <td>2</td>\n",
       "      <td>1</td>\n",
       "      <td>2021-01-01 19:10:54</td>\n",
       "      <td>20km</td>\n",
       "      <td>27 minutes</td>\n",
       "      <td>NaN</td>\n",
       "    </tr>\n",
       "    <tr>\n",
       "      <th>2</th>\n",
       "      <td>3</td>\n",
       "      <td>1</td>\n",
       "      <td>2021-01-03 00:12:37</td>\n",
       "      <td>13.4km</td>\n",
       "      <td>20 mins</td>\n",
       "      <td>NaN</td>\n",
       "    </tr>\n",
       "    <tr>\n",
       "      <th>3</th>\n",
       "      <td>4</td>\n",
       "      <td>2</td>\n",
       "      <td>2021-01-04 13:53:03</td>\n",
       "      <td>23.4</td>\n",
       "      <td>40</td>\n",
       "      <td>NaN</td>\n",
       "    </tr>\n",
       "    <tr>\n",
       "      <th>4</th>\n",
       "      <td>5</td>\n",
       "      <td>3</td>\n",
       "      <td>2021-01-08 21:10:57</td>\n",
       "      <td>10</td>\n",
       "      <td>15</td>\n",
       "      <td>NaN</td>\n",
       "    </tr>\n",
       "  </tbody>\n",
       "</table>\n",
       "</div>"
      ],
      "text/plain": [
       "   order_id  runner_id         pickup_time distance    duration cancellation\n",
       "0         1          1 2021-01-01 18:15:34     20km  32 minutes          NaN\n",
       "1         2          1 2021-01-01 19:10:54     20km  27 minutes          NaN\n",
       "2         3          1 2021-01-03 00:12:37   13.4km     20 mins          NaN\n",
       "3         4          2 2021-01-04 13:53:03     23.4          40          NaN\n",
       "4         5          3 2021-01-08 21:10:57       10          15          NaN"
      ]
     },
     "execution_count": 5,
     "metadata": {},
     "output_type": "execute_result"
    }
   ],
   "source": [
    "runner_orders.head()"
   ]
  },
  {
   "cell_type": "code",
   "execution_count": 6,
   "metadata": {},
   "outputs": [
    {
     "data": {
      "text/html": [
       "<div>\n",
       "<style scoped>\n",
       "    .dataframe tbody tr th:only-of-type {\n",
       "        vertical-align: middle;\n",
       "    }\n",
       "\n",
       "    .dataframe tbody tr th {\n",
       "        vertical-align: top;\n",
       "    }\n",
       "\n",
       "    .dataframe thead th {\n",
       "        text-align: right;\n",
       "    }\n",
       "</style>\n",
       "<table border=\"1\" class=\"dataframe\">\n",
       "  <thead>\n",
       "    <tr style=\"text-align: right;\">\n",
       "      <th></th>\n",
       "      <th>pizza_id</th>\n",
       "      <th>pizza_name</th>\n",
       "    </tr>\n",
       "  </thead>\n",
       "  <tbody>\n",
       "    <tr>\n",
       "      <th>0</th>\n",
       "      <td>1</td>\n",
       "      <td>Meat Lovers</td>\n",
       "    </tr>\n",
       "    <tr>\n",
       "      <th>1</th>\n",
       "      <td>2</td>\n",
       "      <td>Vegetarian</td>\n",
       "    </tr>\n",
       "  </tbody>\n",
       "</table>\n",
       "</div>"
      ],
      "text/plain": [
       "   pizza_id   pizza_name\n",
       "0         1  Meat Lovers\n",
       "1         2   Vegetarian"
      ]
     },
     "execution_count": 6,
     "metadata": {},
     "output_type": "execute_result"
    }
   ],
   "source": [
    "pizza_names.head()"
   ]
  },
  {
   "cell_type": "code",
   "execution_count": 7,
   "metadata": {},
   "outputs": [
    {
     "data": {
      "text/html": [
       "<div>\n",
       "<style scoped>\n",
       "    .dataframe tbody tr th:only-of-type {\n",
       "        vertical-align: middle;\n",
       "    }\n",
       "\n",
       "    .dataframe tbody tr th {\n",
       "        vertical-align: top;\n",
       "    }\n",
       "\n",
       "    .dataframe thead th {\n",
       "        text-align: right;\n",
       "    }\n",
       "</style>\n",
       "<table border=\"1\" class=\"dataframe\">\n",
       "  <thead>\n",
       "    <tr style=\"text-align: right;\">\n",
       "      <th></th>\n",
       "      <th>pizza_id</th>\n",
       "      <th>toppings</th>\n",
       "    </tr>\n",
       "  </thead>\n",
       "  <tbody>\n",
       "    <tr>\n",
       "      <th>0</th>\n",
       "      <td>1</td>\n",
       "      <td>1, 2, 3, 4, 5, 6, 8, 10</td>\n",
       "    </tr>\n",
       "    <tr>\n",
       "      <th>1</th>\n",
       "      <td>2</td>\n",
       "      <td>4, 6, 7, 9, 11, 12</td>\n",
       "    </tr>\n",
       "  </tbody>\n",
       "</table>\n",
       "</div>"
      ],
      "text/plain": [
       "   pizza_id                 toppings\n",
       "0         1  1, 2, 3, 4, 5, 6, 8, 10\n",
       "1         2       4, 6, 7, 9, 11, 12"
      ]
     },
     "execution_count": 7,
     "metadata": {},
     "output_type": "execute_result"
    }
   ],
   "source": [
    "pizza_recipes.head()"
   ]
  },
  {
   "cell_type": "code",
   "execution_count": 8,
   "metadata": {},
   "outputs": [
    {
     "data": {
      "text/html": [
       "<div>\n",
       "<style scoped>\n",
       "    .dataframe tbody tr th:only-of-type {\n",
       "        vertical-align: middle;\n",
       "    }\n",
       "\n",
       "    .dataframe tbody tr th {\n",
       "        vertical-align: top;\n",
       "    }\n",
       "\n",
       "    .dataframe thead th {\n",
       "        text-align: right;\n",
       "    }\n",
       "</style>\n",
       "<table border=\"1\" class=\"dataframe\">\n",
       "  <thead>\n",
       "    <tr style=\"text-align: right;\">\n",
       "      <th></th>\n",
       "      <th>topping_id</th>\n",
       "      <th>topping_name</th>\n",
       "    </tr>\n",
       "  </thead>\n",
       "  <tbody>\n",
       "    <tr>\n",
       "      <th>0</th>\n",
       "      <td>1</td>\n",
       "      <td>Bacon</td>\n",
       "    </tr>\n",
       "    <tr>\n",
       "      <th>1</th>\n",
       "      <td>2</td>\n",
       "      <td>BBQ Sauce</td>\n",
       "    </tr>\n",
       "    <tr>\n",
       "      <th>2</th>\n",
       "      <td>3</td>\n",
       "      <td>Beef</td>\n",
       "    </tr>\n",
       "    <tr>\n",
       "      <th>3</th>\n",
       "      <td>4</td>\n",
       "      <td>Cheese</td>\n",
       "    </tr>\n",
       "    <tr>\n",
       "      <th>4</th>\n",
       "      <td>5</td>\n",
       "      <td>Chicken</td>\n",
       "    </tr>\n",
       "  </tbody>\n",
       "</table>\n",
       "</div>"
      ],
      "text/plain": [
       "   topping_id topping_name\n",
       "0           1        Bacon\n",
       "1           2    BBQ Sauce\n",
       "2           3         Beef\n",
       "3           4       Cheese\n",
       "4           5      Chicken"
      ]
     },
     "execution_count": 8,
     "metadata": {},
     "output_type": "execute_result"
    }
   ],
   "source": [
    "pizza_toppings.head()"
   ]
  },
  {
   "cell_type": "code",
   "execution_count": 9,
   "metadata": {
    "scrolled": true
   },
   "outputs": [
    {
     "name": "stderr",
     "output_type": "stream",
     "text": [
      "C:\\Users\\sprab\\anaconda3\\lib\\site-packages\\pandas\\core\\arrays\\datetimes.py:702: PerformanceWarning: Non-vectorized DateOffset being applied to Series or DatetimeIndex\n",
      "  warnings.warn(\n"
     ]
    }
   ],
   "source": [
    "#Replacing 2020 to 2021(Data Cleaning)\n",
    "runner_orders['pickup_time'] = runner_orders['pickup_time'].mask(runner_orders['pickup_time'].dt.isocalendar().year == 2020, \\\n",
    "                                                   runner_orders['pickup_time'] + pd.offsets.DateOffset(year=2021))"
   ]
  },
  {
   "cell_type": "markdown",
   "metadata": {},
   "source": [
    "<b> A)  Pizza Metrics </b>"
   ]
  },
  {
   "cell_type": "markdown",
   "metadata": {},
   "source": [
    "How many pizzas were ordered?"
   ]
  },
  {
   "cell_type": "code",
   "execution_count": 10,
   "metadata": {
    "scrolled": true
   },
   "outputs": [
    {
     "name": "stdout",
     "output_type": "stream",
     "text": [
      "Total Pizzas Ordered: 14\n"
     ]
    }
   ],
   "source": [
    "print('Total Pizzas Ordered:',orders['order_id'].count())"
   ]
  },
  {
   "cell_type": "markdown",
   "metadata": {},
   "source": [
    "How many unique customer orders were made?"
   ]
  },
  {
   "cell_type": "code",
   "execution_count": 11,
   "metadata": {
    "scrolled": true
   },
   "outputs": [
    {
     "name": "stdout",
     "output_type": "stream",
     "text": [
      "Unique customer orders: 10\n"
     ]
    }
   ],
   "source": [
    "print('Unique customer orders:', (orders['order_id'].astype(str)+orders['customer_id'].astype(str)).nunique())"
   ]
  },
  {
   "cell_type": "markdown",
   "metadata": {},
   "source": [
    "How many successful orders were delivered by each runner?"
   ]
  },
  {
   "cell_type": "code",
   "execution_count": 12,
   "metadata": {
    "scrolled": true
   },
   "outputs": [
    {
     "name": "stdout",
     "output_type": "stream",
     "text": [
      "Successful orders delivered: 8\n"
     ]
    }
   ],
   "source": [
    "print('Successful orders delivered:',runner_orders['cancellation'].isnull().sum())"
   ]
  },
  {
   "cell_type": "markdown",
   "metadata": {},
   "source": [
    "How many of each type of pizza was delivered?"
   ]
  },
  {
   "cell_type": "code",
   "execution_count": 13,
   "metadata": {
    "scrolled": true
   },
   "outputs": [
    {
     "data": {
      "text/html": [
       "<div>\n",
       "<style scoped>\n",
       "    .dataframe tbody tr th:only-of-type {\n",
       "        vertical-align: middle;\n",
       "    }\n",
       "\n",
       "    .dataframe tbody tr th {\n",
       "        vertical-align: top;\n",
       "    }\n",
       "\n",
       "    .dataframe thead th {\n",
       "        text-align: right;\n",
       "    }\n",
       "</style>\n",
       "<table border=\"1\" class=\"dataframe\">\n",
       "  <thead>\n",
       "    <tr style=\"text-align: right;\">\n",
       "      <th></th>\n",
       "      <th>pizza_name</th>\n",
       "      <th>no of deliveries</th>\n",
       "    </tr>\n",
       "  </thead>\n",
       "  <tbody>\n",
       "    <tr>\n",
       "      <th>0</th>\n",
       "      <td>Meat Lovers</td>\n",
       "      <td>9</td>\n",
       "    </tr>\n",
       "    <tr>\n",
       "      <th>1</th>\n",
       "      <td>Vegetarian</td>\n",
       "      <td>3</td>\n",
       "    </tr>\n",
       "  </tbody>\n",
       "</table>\n",
       "</div>"
      ],
      "text/plain": [
       "    pizza_name  no of deliveries\n",
       "0  Meat Lovers                 9\n",
       "1   Vegetarian                 3"
      ]
     },
     "execution_count": 13,
     "metadata": {},
     "output_type": "execute_result"
    }
   ],
   "source": [
    "orders_delivered = runner_orders[runner_orders['cancellation'].isnull()]['order_id']\n",
    "x= orders[orders['order_id'].isin(orders_delivered)].merge(pizza_names, on = 'pizza_id').\\\n",
    "groupby('pizza_name', as_index = False)['order_id'].count()\n",
    "x.rename(columns={\"order_id\": \"no of deliveries\"},inplace=True)\n",
    "x"
   ]
  },
  {
   "cell_type": "markdown",
   "metadata": {},
   "source": [
    "How many Vegetarian and Meatlovers were ordered by each customer?"
   ]
  },
  {
   "cell_type": "code",
   "execution_count": 14,
   "metadata": {
    "scrolled": true
   },
   "outputs": [
    {
     "data": {
      "text/html": [
       "<div>\n",
       "<style scoped>\n",
       "    .dataframe tbody tr th:only-of-type {\n",
       "        vertical-align: middle;\n",
       "    }\n",
       "\n",
       "    .dataframe tbody tr th {\n",
       "        vertical-align: top;\n",
       "    }\n",
       "\n",
       "    .dataframe thead th {\n",
       "        text-align: right;\n",
       "    }\n",
       "</style>\n",
       "<table border=\"1\" class=\"dataframe\">\n",
       "  <thead>\n",
       "    <tr style=\"text-align: right;\">\n",
       "      <th></th>\n",
       "      <th>customer_id</th>\n",
       "      <th>pizza_name</th>\n",
       "      <th>order_id</th>\n",
       "    </tr>\n",
       "  </thead>\n",
       "  <tbody>\n",
       "    <tr>\n",
       "      <th>0</th>\n",
       "      <td>101</td>\n",
       "      <td>Meat Lovers</td>\n",
       "      <td>2</td>\n",
       "    </tr>\n",
       "    <tr>\n",
       "      <th>1</th>\n",
       "      <td>101</td>\n",
       "      <td>Vegetarian</td>\n",
       "      <td>1</td>\n",
       "    </tr>\n",
       "    <tr>\n",
       "      <th>2</th>\n",
       "      <td>102</td>\n",
       "      <td>Meat Lovers</td>\n",
       "      <td>2</td>\n",
       "    </tr>\n",
       "    <tr>\n",
       "      <th>3</th>\n",
       "      <td>102</td>\n",
       "      <td>Vegetarian</td>\n",
       "      <td>1</td>\n",
       "    </tr>\n",
       "    <tr>\n",
       "      <th>4</th>\n",
       "      <td>103</td>\n",
       "      <td>Meat Lovers</td>\n",
       "      <td>3</td>\n",
       "    </tr>\n",
       "    <tr>\n",
       "      <th>5</th>\n",
       "      <td>103</td>\n",
       "      <td>Vegetarian</td>\n",
       "      <td>1</td>\n",
       "    </tr>\n",
       "    <tr>\n",
       "      <th>6</th>\n",
       "      <td>104</td>\n",
       "      <td>Meat Lovers</td>\n",
       "      <td>3</td>\n",
       "    </tr>\n",
       "    <tr>\n",
       "      <th>7</th>\n",
       "      <td>105</td>\n",
       "      <td>Vegetarian</td>\n",
       "      <td>1</td>\n",
       "    </tr>\n",
       "  </tbody>\n",
       "</table>\n",
       "</div>"
      ],
      "text/plain": [
       "   customer_id   pizza_name  order_id\n",
       "0          101  Meat Lovers         2\n",
       "1          101   Vegetarian         1\n",
       "2          102  Meat Lovers         2\n",
       "3          102   Vegetarian         1\n",
       "4          103  Meat Lovers         3\n",
       "5          103   Vegetarian         1\n",
       "6          104  Meat Lovers         3\n",
       "7          105   Vegetarian         1"
      ]
     },
     "execution_count": 14,
     "metadata": {},
     "output_type": "execute_result"
    }
   ],
   "source": [
    "orders.merge(pizza_names, on = 'pizza_id').groupby(['customer_id','pizza_name'], as_index = False)['order_id'].count()"
   ]
  },
  {
   "cell_type": "markdown",
   "metadata": {},
   "source": [
    "What was the maximum number of pizzas delivered in a single order?"
   ]
  },
  {
   "cell_type": "code",
   "execution_count": 15,
   "metadata": {
    "scrolled": true
   },
   "outputs": [
    {
     "name": "stdout",
     "output_type": "stream",
     "text": [
      "Max no of pizzas delivered in a single order: 3\n"
     ]
    }
   ],
   "source": [
    "temp = orders.groupby('order_id',as_index = False)['pizza_id'].count()\n",
    "print('Max no of pizzas delivered in a single order:' ,temp['pizza_id'].max())"
   ]
  },
  {
   "cell_type": "markdown",
   "metadata": {},
   "source": [
    "For each customer, how many delivered pizzas had at least 1 change and how many had no changes?"
   ]
  },
  {
   "cell_type": "code",
   "execution_count": 16,
   "metadata": {
    "scrolled": true
   },
   "outputs": [
    {
     "data": {
      "text/html": [
       "<div>\n",
       "<style scoped>\n",
       "    .dataframe tbody tr th:only-of-type {\n",
       "        vertical-align: middle;\n",
       "    }\n",
       "\n",
       "    .dataframe tbody tr th {\n",
       "        vertical-align: top;\n",
       "    }\n",
       "\n",
       "    .dataframe thead th {\n",
       "        text-align: right;\n",
       "    }\n",
       "</style>\n",
       "<table border=\"1\" class=\"dataframe\">\n",
       "  <thead>\n",
       "    <tr style=\"text-align: right;\">\n",
       "      <th></th>\n",
       "      <th>customer_id</th>\n",
       "      <th>change</th>\n",
       "      <th>no of changes</th>\n",
       "    </tr>\n",
       "  </thead>\n",
       "  <tbody>\n",
       "    <tr>\n",
       "      <th>0</th>\n",
       "      <td>101</td>\n",
       "      <td>no</td>\n",
       "      <td>2</td>\n",
       "    </tr>\n",
       "    <tr>\n",
       "      <th>1</th>\n",
       "      <td>102</td>\n",
       "      <td>no</td>\n",
       "      <td>3</td>\n",
       "    </tr>\n",
       "    <tr>\n",
       "      <th>2</th>\n",
       "      <td>103</td>\n",
       "      <td>yes</td>\n",
       "      <td>3</td>\n",
       "    </tr>\n",
       "    <tr>\n",
       "      <th>3</th>\n",
       "      <td>104</td>\n",
       "      <td>no</td>\n",
       "      <td>1</td>\n",
       "    </tr>\n",
       "    <tr>\n",
       "      <th>4</th>\n",
       "      <td>104</td>\n",
       "      <td>yes</td>\n",
       "      <td>2</td>\n",
       "    </tr>\n",
       "    <tr>\n",
       "      <th>5</th>\n",
       "      <td>105</td>\n",
       "      <td>yes</td>\n",
       "      <td>1</td>\n",
       "    </tr>\n",
       "  </tbody>\n",
       "</table>\n",
       "</div>"
      ],
      "text/plain": [
       "   customer_id change  no of changes\n",
       "0          101     no              2\n",
       "1          102     no              3\n",
       "2          103    yes              3\n",
       "3          104     no              1\n",
       "4          104    yes              2\n",
       "5          105    yes              1"
      ]
     },
     "execution_count": 16,
     "metadata": {},
     "output_type": "execute_result"
    }
   ],
   "source": [
    "orders_temp = orders \n",
    "orders_temp[['exclusions','extras']] = orders_temp[['exclusions','extras']].fillna('None')\n",
    "def change(df):\n",
    "    if(df['exclusions'] == 'None' and df['extras'] == 'None'):\n",
    "        return 'no'\n",
    "    else :\n",
    "        return 'yes'\n",
    "    \n",
    "orders_temp['change'] = orders_temp.apply(change,axis = 1)\n",
    "\n",
    "x=orders_temp[orders_temp['order_id'].isin(orders_delivered)]\\\n",
    ".groupby(['customer_id','change'], as_index = False)['pizza_id'].count()\n",
    "\n",
    "x.rename(columns={\"pizza_id\": \"no of changes\"},inplace=True)\n",
    "x"
   ]
  },
  {
   "cell_type": "markdown",
   "metadata": {},
   "source": [
    "How many pizzas were delivered that had both exclusions and extras?"
   ]
  },
  {
   "cell_type": "code",
   "execution_count": 17,
   "metadata": {
    "scrolled": true
   },
   "outputs": [
    {
     "data": {
      "text/plain": [
       "1"
      ]
     },
     "execution_count": 17,
     "metadata": {},
     "output_type": "execute_result"
    }
   ],
   "source": [
    "orders_temp[(orders_temp['order_id'].isin(orders_delivered)) \\\n",
    "            & (orders_temp['exclusions'] != 'None') & (orders_temp['extras'] != 'None')]['pizza_id'].count()"
   ]
  },
  {
   "cell_type": "markdown",
   "metadata": {},
   "source": [
    "What was the total volume of pizzas ordered for each hour of the day?"
   ]
  },
  {
   "cell_type": "code",
   "execution_count": 18,
   "metadata": {
    "scrolled": true
   },
   "outputs": [
    {
     "data": {
      "text/html": [
       "<div>\n",
       "<style scoped>\n",
       "    .dataframe tbody tr th:only-of-type {\n",
       "        vertical-align: middle;\n",
       "    }\n",
       "\n",
       "    .dataframe tbody tr th {\n",
       "        vertical-align: top;\n",
       "    }\n",
       "\n",
       "    .dataframe thead th {\n",
       "        text-align: right;\n",
       "    }\n",
       "</style>\n",
       "<table border=\"1\" class=\"dataframe\">\n",
       "  <thead>\n",
       "    <tr style=\"text-align: right;\">\n",
       "      <th></th>\n",
       "      <th>day_hour</th>\n",
       "      <th>no of orders</th>\n",
       "    </tr>\n",
       "  </thead>\n",
       "  <tbody>\n",
       "    <tr>\n",
       "      <th>0</th>\n",
       "      <td>11th hr</td>\n",
       "      <td>1</td>\n",
       "    </tr>\n",
       "    <tr>\n",
       "      <th>1</th>\n",
       "      <td>13th hr</td>\n",
       "      <td>3</td>\n",
       "    </tr>\n",
       "    <tr>\n",
       "      <th>2</th>\n",
       "      <td>18th hr</td>\n",
       "      <td>3</td>\n",
       "    </tr>\n",
       "    <tr>\n",
       "      <th>3</th>\n",
       "      <td>19th hr</td>\n",
       "      <td>1</td>\n",
       "    </tr>\n",
       "    <tr>\n",
       "      <th>4</th>\n",
       "      <td>21th hr</td>\n",
       "      <td>3</td>\n",
       "    </tr>\n",
       "    <tr>\n",
       "      <th>5</th>\n",
       "      <td>23th hr</td>\n",
       "      <td>3</td>\n",
       "    </tr>\n",
       "  </tbody>\n",
       "</table>\n",
       "</div>"
      ],
      "text/plain": [
       "  day_hour  no of orders\n",
       "0  11th hr             1\n",
       "1  13th hr             3\n",
       "2  18th hr             3\n",
       "3  19th hr             1\n",
       "4  21th hr             3\n",
       "5  23th hr             3"
      ]
     },
     "execution_count": 18,
     "metadata": {},
     "output_type": "execute_result"
    }
   ],
   "source": [
    "orders_temp['day_hour'] = orders['order_time'].dt.hour.astype(str)+'th hr'\n",
    "x=orders_temp.groupby('day_hour', as_index = False)['order_id'].count()\n",
    "x.rename(columns={\"order_id\": \"no of orders\"},inplace=True)\n",
    "x"
   ]
  },
  {
   "cell_type": "markdown",
   "metadata": {},
   "source": [
    "What was the volume of orders for each day of the week?"
   ]
  },
  {
   "cell_type": "code",
   "execution_count": 19,
   "metadata": {
    "scrolled": true
   },
   "outputs": [
    {
     "data": {
      "text/html": [
       "<div>\n",
       "<style scoped>\n",
       "    .dataframe tbody tr th:only-of-type {\n",
       "        vertical-align: middle;\n",
       "    }\n",
       "\n",
       "    .dataframe tbody tr th {\n",
       "        vertical-align: top;\n",
       "    }\n",
       "\n",
       "    .dataframe thead th {\n",
       "        text-align: right;\n",
       "    }\n",
       "</style>\n",
       "<table border=\"1\" class=\"dataframe\">\n",
       "  <thead>\n",
       "    <tr style=\"text-align: right;\">\n",
       "      <th></th>\n",
       "      <th>day_of_the_week</th>\n",
       "      <th>no of orders</th>\n",
       "    </tr>\n",
       "  </thead>\n",
       "  <tbody>\n",
       "    <tr>\n",
       "      <th>0</th>\n",
       "      <td>Friday</td>\n",
       "      <td>5</td>\n",
       "    </tr>\n",
       "    <tr>\n",
       "      <th>1</th>\n",
       "      <td>Monday</td>\n",
       "      <td>5</td>\n",
       "    </tr>\n",
       "    <tr>\n",
       "      <th>2</th>\n",
       "      <td>Saturday</td>\n",
       "      <td>3</td>\n",
       "    </tr>\n",
       "    <tr>\n",
       "      <th>3</th>\n",
       "      <td>Sunday</td>\n",
       "      <td>1</td>\n",
       "    </tr>\n",
       "  </tbody>\n",
       "</table>\n",
       "</div>"
      ],
      "text/plain": [
       "  day_of_the_week  no of orders\n",
       "0          Friday             5\n",
       "1          Monday             5\n",
       "2        Saturday             3\n",
       "3          Sunday             1"
      ]
     },
     "execution_count": 19,
     "metadata": {},
     "output_type": "execute_result"
    }
   ],
   "source": [
    "dw_mapping={\n",
    "    0: 'Monday', \n",
    "    1: 'Tuesday', \n",
    "    2: 'Wednesday', \n",
    "    3: 'Thursday', \n",
    "    4: 'Friday',\n",
    "    5: 'Saturday', \n",
    "    6: 'Sunday'\n",
    "} \n",
    "\n",
    "orders_temp['day_of_the_week'] = orders['order_time'].dt.weekday.map(dw_mapping)\n",
    "x=orders_temp.groupby('day_of_the_week', as_index = False)['order_id'].count()\n",
    "x.rename(columns={\"order_id\": \"no of orders\"},inplace=True)\n",
    "x"
   ]
  },
  {
   "cell_type": "markdown",
   "metadata": {},
   "source": [
    "<b> B) Runner and Customer Experience </b>"
   ]
  },
  {
   "cell_type": "markdown",
   "metadata": {},
   "source": [
    "What was the average time in minutes it took for each runner to arrive at the Pizza Runner HQ to pickup the order?"
   ]
  },
  {
   "cell_type": "code",
   "execution_count": 20,
   "metadata": {
    "scrolled": false
   },
   "outputs": [
    {
     "name": "stdout",
     "output_type": "stream",
     "text": [
      "Average Time in minutes : 16\n"
     ]
    }
   ],
   "source": [
    "\"\"\"The pickup_time is the timestamp at which the runner arrives at the Pizza\n",
    "        Runner headquarters to pick up the freshly cooked pizzas\"\"\"\n",
    "\n",
    "#Drop na to eliminate cancelled orders\n",
    "df_b21 = runner_orders[['order_id','runner_id','pickup_time']].dropna().\\\n",
    "merge(orders[['order_time','order_id']], on = 'order_id')\n",
    "\n",
    "#Getting rid of duplicates after joining \n",
    "df_b21 = df_b21.drop_duplicates()\n",
    "\n",
    "#Calculating avg time in minutes \n",
    "x = np.mean(df_b21['pickup_time']-df_b21['order_time'])\n",
    "y = x.total_seconds()\n",
    "minutes = round((y / 3600) * 60)\n",
    "print(\"Average Time in minutes :\", minutes)"
   ]
  },
  {
   "cell_type": "markdown",
   "metadata": {
    "scrolled": true
   },
   "source": [
    "Is there any relationship between the number of pizzas and how long the order takes to prepare?"
   ]
  },
  {
   "cell_type": "code",
   "execution_count": 21,
   "metadata": {},
   "outputs": [
    {
     "data": {
      "image/png": "[encoded data removed]",
      "text/plain": [
       "<Figure size 432x288 with 1 Axes>"
      ]
     },
     "metadata": {},
     "output_type": "display_data"
    }
   ],
   "source": [
    "df_b31 = orders.groupby(['order_id','order_time'], as_index = False)['pizza_id'].count()\n",
    "df_b31 = df_b31.merge(runner_orders[['order_id','pickup_time']],on ='order_id').dropna()\n",
    "df_b31.rename(columns = {'pizza_id':'no_of_pizzas'}, inplace = True)\n",
    "df_b31['Order_Prep_Time(m)'] = (((df_b31['pickup_time'] - df_b31['order_time']).astype(str)).str[10:12]).astype(int)\n",
    "\n",
    "# Create bee swarm plot with Seaborn's default settings\n",
    "sns.swarmplot(x='no_of_pizzas',y='Order_Prep_Time(m)', data = df_b31)\n",
    "\n",
    "# Label the axes\n",
    "plt.xlabel('No of Pizzas')\n",
    "plt.ylabel('Prep Time(m)')\n",
    "\n",
    "# Show the plot\n",
    "plt.show()"
   ]
  },
  {
   "cell_type": "markdown",
   "metadata": {},
   "source": [
    "What was the average distance travelled for each customer?"
   ]
  },
  {
   "cell_type": "code",
   "execution_count": 22,
   "metadata": {},
   "outputs": [
    {
     "name": "stdout",
     "output_type": "stream",
     "text": [
      "Average distance travelled :  18.15\n"
     ]
    }
   ],
   "source": [
    "x = runner_orders['distance'].dropna().astype(str).str.strip()\n",
    "x = np.array(x.str.extract('([^km]+)')).astype(float)\n",
    "print(\"Average distance travelled : \",np.mean(x))"
   ]
  },
  {
   "cell_type": "markdown",
   "metadata": {},
   "source": [
    "What was the difference between the longest and shortest delivery times for all orders?"
   ]
  },
  {
   "cell_type": "code",
   "execution_count": 23,
   "metadata": {},
   "outputs": [
    {
     "name": "stdout",
     "output_type": "stream",
     "text": [
      "30 mins\n"
     ]
    }
   ],
   "source": [
    "y = runner_orders['duration'].dropna().astype(str).str.strip()\n",
    "y=np.array(y.str.extract('([^a-zA-z]+)')).astype(float)\n",
    "print((np.max(y)-np.min(y)).astype(int),\"mins\")"
   ]
  },
  {
   "cell_type": "markdown",
   "metadata": {},
   "source": [
    "What was the average speed for each runner for each delivery and do you notice any trend for these values?"
   ]
  },
  {
   "cell_type": "code",
   "execution_count": 24,
   "metadata": {},
   "outputs": [
    {
     "data": {
      "image/png": "[encoded data removed]",
      "text/plain": [
       "<Figure size 427.425x360 with 1 Axes>"
      ]
     },
     "metadata": {},
     "output_type": "display_data"
    }
   ],
   "source": [
    "df_b61 = runner_orders[['order_id','runner_id','distance','duration']].dropna()\n",
    "df_b61['distance'] = df_b61['distance'].dropna().astype(str).str.strip()\n",
    "df_b61['distance'] = np.array(df_b61['distance'].str.extract('([^km]+)')).astype(float)\n",
    "df_b61['duration'] = df_b61['duration'].dropna().astype(str).str.strip()\n",
    "df_b61['duration']=np.array(df_b61['duration'].str.extract('([^a-zA-z]+)')).astype(float)\n",
    "\n",
    "df_b61['avg_speed'] = round(df_b61['distance']/(df_b61['duration']/60),2)\n",
    "sns.relplot(x=\"distance\", y=\"duration\", size=\"avg_speed\",sizes=(10,100),data=df_b61);"
   ]
  },
  {
   "cell_type": "markdown",
   "metadata": {},
   "source": [
    "What is the successful delivery percentage for each runner?"
   ]
  },
  {
   "cell_type": "code",
   "execution_count": 25,
   "metadata": {},
   "outputs": [
    {
     "name": "stdout",
     "output_type": "stream",
     "text": [
      "   runner_id  percentage\n",
      "0          1       100.0\n",
      "1          2        75.0\n",
      "2          3        50.0\n"
     ]
    }
   ],
   "source": [
    "df_b71 = runner_orders.groupby('runner_id', as_index = False).agg({'cancellation':'count','order_id':'count'})\n",
    "df_b71.rename(columns = {'cancellation':'no_of_cancellations','order_id':'total_orders'}, inplace = True)\n",
    "df_b71['percentage'] = ((df_b71['total_orders']-df_b71['no_of_cancellations'])/df_b71['total_orders'])*100\n",
    "print(df_b71[['runner_id','percentage']])"
   ]
  },
  {
   "cell_type": "markdown",
   "metadata": {},
   "source": [
    "<b> C. Ingredient Optimisation </b>"
   ]
  },
  {
   "cell_type": "markdown",
   "metadata": {},
   "source": [
    "What are the standard ingredients for each pizza?"
   ]
  },
  {
   "cell_type": "code",
   "execution_count": 26,
   "metadata": {},
   "outputs": [
    {
     "name": "stdout",
     "output_type": "stream",
     "text": [
      "For Pizza Meat Lovers : ['Bacon', 'BBQ Sauce', 'Beef', 'Cheese', 'Chicken', 'Mushrooms', 'Pepperoni', 'Salami']\n",
      "For Pizza Vegetarian : ['Cheese', 'Mushrooms', 'Onions', 'Peppers', 'Tomatoes', 'Tomato Sauce']\n"
     ]
    }
   ],
   "source": [
    "import pandas as pd\n",
    "pd.options.mode.chained_assignment = None\n",
    "\n",
    "pizza_recipes['toppings'] = pizza_recipes['toppings'].str.replace(' ','')\n",
    "pizza_recipes['toppings_new'] = pizza_recipes['toppings'].str.split(',') \n",
    "\n",
    "for i in range(len(pizza_recipes)):\n",
    "    pizza_recipes['toppings_new'][i]=[int(x) for x in pizza_recipes['toppings_new'][i]]\n",
    "    print(\"For Pizza\",pizza_names[pizza_names['pizza_id']==pizza_recipes['pizza_id'][i]]['pizza_name'].to_string(index=False),\\\n",
    "                                   \":\",list(pizza_toppings[pizza_toppings['topping_id'].\\\n",
    "                                                       isin(pizza_recipes['toppings_new'][i])]['topping_name']))"
   ]
  },
  {
   "cell_type": "markdown",
   "metadata": {},
   "source": [
    "What was the most commonly added extra?"
   ]
  },
  {
   "cell_type": "code",
   "execution_count": 27,
   "metadata": {},
   "outputs": [
    {
     "name": "stdout",
     "output_type": "stream",
     "text": [
      "Most commonly added extra :- Bacon\n"
     ]
    }
   ],
   "source": [
    "orders = pd.read_excel(\"CS2_Dataset.xlsx\",sheet_name = 'orders')\n",
    "x=list(orders['extras'].dropna().astype(str).str.replace(' ','').str.split(','))\n",
    "\n",
    "y=[]\n",
    "for i in range(len(x)):\n",
    "    y +=x[i]\n",
    "\n",
    "from collections import Counter\n",
    "z = Counter(y)\n",
    "z = max(z, key=z.get)\n",
    "print(\"Most commonly added extra :-\",pizza_toppings[pizza_toppings['topping_id'] == int(z)]['topping_name'].to_string(index=False))"
   ]
  },
  {
   "cell_type": "markdown",
   "metadata": {},
   "source": [
    "What was the most common exclusion?"
   ]
  },
  {
   "cell_type": "code",
   "execution_count": 28,
   "metadata": {},
   "outputs": [
    {
     "name": "stdout",
     "output_type": "stream",
     "text": [
      "Most common exclusion :- Cheese\n"
     ]
    }
   ],
   "source": [
    "orders = pd.read_excel(\"CS2_Dataset.xlsx\",sheet_name = 'orders')\n",
    "x=list(orders['exclusions'].dropna().astype(str).str.replace(' ','').str.split(','))\n",
    "\n",
    "y=[]\n",
    "for i in range(len(x)):\n",
    "    y +=x[i]\n",
    "\n",
    "from collections import Counter\n",
    "z = Counter(y)\n",
    "z = max(z, key=z.get)\n",
    "print(\"Most common exclusion :-\",pizza_toppings[pizza_toppings['topping_id'] == int(z)]['topping_name'].to_string(index=False))"
   ]
  },
  {
   "cell_type": "markdown",
   "metadata": {},
   "source": [
    "  "
   ]
  },
  {
   "cell_type": "markdown",
   "metadata": {},
   "source": [
    "Generate an order item for each record in the customers_orders table in the format of one of the following:\n",
    "\n",
    "o\tMeat Lovers\n",
    "\n",
    "o\tMeat Lovers - Exclude Beef\n",
    "\n",
    "o\tMeat Lovers - Extra Bacon\n",
    "\n",
    "o\tMeat Lovers - Exclude Cheese, Bacon - Extra Mushroom, Peppers\n"
   ]
  },
  {
   "cell_type": "code",
   "execution_count": 29,
   "metadata": {},
   "outputs": [
    {
     "name": "stdout",
     "output_type": "stream",
     "text": [
      "Meat Lovers  \n",
      "Meat Lovers  \n",
      "Meat Lovers  \n",
      "Meat Lovers   - Exclusions Cheese\n",
      "Meat Lovers   - Exclusions Cheese\n",
      "Meat Lovers  - Extras Bacon \n",
      "Meat Lovers  \n",
      "Meat Lovers  - Extras Bacon,Chicken  - Exclusions Cheese\n",
      "Meat Lovers  \n",
      "Meat Lovers  - Extras Bacon,Cheese  - Exclusions BBQ Sauce,Mushrooms\n",
      "Vegetarian  \n",
      "Vegetarian   - Exclusions Cheese\n",
      "Vegetarian  \n",
      "Vegetarian  - Extras Bacon \n"
     ]
    }
   ],
   "source": [
    "df_c41 = orders[['order_id','pizza_id','exclusions','extras']]\n",
    "df_c41= df_c41.merge(pizza_names,on= 'pizza_id')\n",
    "\n",
    "\n",
    "\n",
    "df_c42 = df_c41[['order_id','exclusions']].copy().dropna()\n",
    "df_c42['exclusions_new'] = df_c42['exclusions'].astype(str).str.replace(' ','').str.split(',')\n",
    "z = df_c42['exclusions_new'].index\n",
    "y = []\n",
    "for i in z:\n",
    "    df_c42['exclusions_new'][i]=[int(x) for x in df_c42['exclusions_new'][i]]\n",
    "    x = list(pizza_toppings[pizza_toppings['topping_id'].isin(df_c42['exclusions_new'][i])]['topping_name'])\n",
    "    y.append(x)   \n",
    "df_c42['excl_name'] = \"\"\n",
    "for i,l1,o in zip(range(len(y)),y,df_c42.index):\n",
    "    for j in range(len(l1)):\n",
    "        string = ' '.join([str(y[i][j])])\n",
    "        df_c42['excl_name'][o] = df_c42['excl_name'][o]+','+string        \n",
    "df_c42['excl_name'] = df_c42['excl_name'].str.lstrip(',')\n",
    "\n",
    "\n",
    "\n",
    "\n",
    "df_c43 = df_c41[['order_id','extras']].copy().dropna()\n",
    "df_c43['extras_new'] = df_c43['extras'].astype(str).str.replace(' ','').str.split(',')\n",
    "z = df_c43['extras_new'].index\n",
    "y = []\n",
    "for i in z:\n",
    "    df_c43['extras_new'][i]=[int(x) for x in df_c43['extras_new'][i]]\n",
    "    x = list(pizza_toppings[pizza_toppings['topping_id'].isin(df_c43['extras_new'][i])]['topping_name'])\n",
    "    y.append(x)    \n",
    "df_c43['extra_name'] = \"\"\n",
    "for i,l1,o in zip(range(len(y)),y,df_c43.index):\n",
    "    for j in range(len(l1)):\n",
    "        string = ' '.join([str(y[i][j])])\n",
    "        df_c43['extra_name'][o] = df_c43['extra_name'][o]+','+string        \n",
    "df_c43['extra_name'] = df_c43['extra_name'].str.lstrip(',')\n",
    "\n",
    "\n",
    "\n",
    "df_c41 = df_c41.join(df_c43['extra_name']).join(df_c42['excl_name'])\n",
    "\n",
    "\n",
    "\n",
    "df_c42 = df_c41[['pizza_name','extra_name','excl_name']].copy()\n",
    "df_c42.loc[~df_c42['extra_name'].isnull()]['extra_name']  = \"Extras \"+df_c42.loc[~df_c42['extra_name'].isnull()]['extra_name']\n",
    "\n",
    "df_c41['extras_name'] = \" - Extras \"+df_c42.loc[~df_c42['extra_name'].isnull()]['extra_name']\n",
    "df_c41['excls_name'] = \" - Exclusions \"+df_c42.loc[~df_c42['excl_name'].isnull()]['excl_name']\n",
    "df_c41 = df_c41.fillna('')\n",
    "\n",
    "df_c41['new'] = df_c41['pizza_name'] + ' ' + df_c41['extras_name'] + ' '+ df_c41['excls_name']\n",
    "\n",
    "#Final Output\n",
    "for i in range(len(df_c41)):\n",
    "    print(df_c41['new'][i])"
   ]
  },
  {
   "cell_type": "markdown",
   "metadata": {},
   "source": [
    "What is the total quantity of each ingredient used in all delivered pizzas sorted by most frequent first?"
   ]
  },
  {
   "cell_type": "code",
   "execution_count": 30,
   "metadata": {},
   "outputs": [
    {
     "name": "stdout",
     "output_type": "stream",
     "text": [
      "Counter({'Bacon': 14, 'Mushrooms': 14, 'Cheese': 11, 'Chicken': 11, 'BBQ Sauce': 10, 'Beef': 10, 'Pepperoni': 10, 'Salami': 10, 'Onions': 4, 'Peppers': 4, 'Tomatoes': 4, 'Tomato Sauce': 4})\n"
     ]
    }
   ],
   "source": [
    "df_c61 = df_c41[['order_id','pizza_id','pizza_name','extra_name','excl_name']].\\\n",
    "merge(pizza_recipes[['pizza_id','toppings_new']],on='pizza_id')\n",
    "\n",
    "y=[]\n",
    "for i in df_c61.index:\n",
    "    df_c61['toppings_new'][i]=[int(x) for x in df_c61['toppings_new'][i]]\n",
    "    x = list(pizza_toppings[pizza_toppings['topping_id'].isin(df_c61['toppings_new'][i])]['topping_name'])\n",
    "    y.append(x)\n",
    "    \n",
    "df_c61['topping_name'] = \"\"\n",
    "for i,l1,o in zip(range(len(y)),y,df_c61.index):\n",
    "    for j in range(len(l1)):\n",
    "        string = ' '.join([str(y[i][j])])\n",
    "        df_c61['topping_name'][o] = df_c61['topping_name'][o]+','+string\n",
    "        \n",
    "df_c61['topping_name'] = df_c61['topping_name'].str.lstrip(',')\n",
    "del df_c61['toppings_new']\n",
    "df_c61['items'] = df_c61['topping_name']\n",
    "for i in range(len(df_c61)):\n",
    "    if df_c61['extra_name'][i] != \"\":\n",
    "        df_c61['items'][i] = df_c61['extra_name'][i] +','+df_c61['topping_name'][i]\n",
    "    df_c61['items'][i] = df_c61['items'][i].replace(str(df_c61['excl_name'][i]), '')\n",
    "    df_c61['items'][i] = df_c61['items'][i].replace(\",,\",\",\")\n",
    "    \n",
    "    \n",
    "import itertools\n",
    "ingredient=''\n",
    "for i in range(len(df_c61)):\n",
    "    ingredient= ingredient+ df_c61['items'][i]+','\n",
    "ingredient = ingredient.replace(\",,\",\",\")\n",
    "ingredient = ingredient.split(\",\")\n",
    "del ingredient[-1]\n",
    "ingredient\n",
    "\n",
    "import collections\n",
    "counter=collections.Counter(ingredient)\n",
    "\n",
    "print(counter)"
   ]
  },
  {
   "cell_type": "markdown",
   "metadata": {},
   "source": [
    "<b> D) Pricing and Ratings </b>"
   ]
  },
  {
   "cell_type": "markdown",
   "metadata": {},
   "source": [
    "If a Meat Lovers pizza costs \\\\$12 and Vegetarian costs \\\\$10 and there were no charges for changes - how much money has Pizza Runner made so far if there are no delivery fees?"
   ]
  },
  {
   "cell_type": "code",
   "execution_count": 31,
   "metadata": {},
   "outputs": [
    {
     "name": "stdout",
     "output_type": "stream",
     "text": [
      "Money in dollars: 126\n"
     ]
    }
   ],
   "source": [
    "df_d11 = orders.merge(runner_orders,on = 'order_id')\n",
    "df_d11 = df_d11[df_d11.cancellation.isnull()]\n",
    "print(\"Money in dollars:\",df_d11[df_d11['pizza_id']==1]['pizza_id'].count()*10 \\\n",
    "      +df_d11[df_d11['pizza_id']==2]['pizza_id'].count()*12)"
   ]
  },
  {
   "cell_type": "markdown",
   "metadata": {},
   "source": [
    "What if there was an additional $1 charge for any pizza extras?"
   ]
  },
  {
   "cell_type": "code",
   "execution_count": 32,
   "metadata": {},
   "outputs": [
    {
     "name": "stdout",
     "output_type": "stream",
     "text": [
      "Money in dollars: 132\n"
     ]
    }
   ],
   "source": [
    "ingredient=''\n",
    "for i in range(len(df_c61)):\n",
    "    if df_c61['extra_name'][i] != \"\":\n",
    "        ingredient= ingredient+ df_c61['extra_name'][i]+','\n",
    "ingredient = ingredient.split(\",\")\n",
    "del ingredient[-1]\n",
    "print(\"Money in dollars:\",df_d11[df_d11['pizza_id']==1]['pizza_id'].count()*10 \\\n",
    "      +df_d11[df_d11['pizza_id']==2]['pizza_id'].count()*12\\\n",
    "      +len(ingredient))"
   ]
  },
  {
   "cell_type": "markdown",
   "metadata": {},
   "source": [
    "The Pizza Runner team now wants to add an additional ratings system that allows customers to rate their runner, how would you design an additional table for this new dataset - generate a new table and insert your own data for ratings for each successful customer order between 1 to 5."
   ]
  },
  {
   "cell_type": "code",
   "execution_count": 33,
   "metadata": {},
   "outputs": [
    {
     "data": {
      "text/html": [
       "<div>\n",
       "<style scoped>\n",
       "    .dataframe tbody tr th:only-of-type {\n",
       "        vertical-align: middle;\n",
       "    }\n",
       "\n",
       "    .dataframe tbody tr th {\n",
       "        vertical-align: top;\n",
       "    }\n",
       "\n",
       "    .dataframe thead th {\n",
       "        text-align: right;\n",
       "    }\n",
       "</style>\n",
       "<table border=\"1\" class=\"dataframe\">\n",
       "  <thead>\n",
       "    <tr style=\"text-align: right;\">\n",
       "      <th></th>\n",
       "      <th>order_id</th>\n",
       "      <th>runner_id</th>\n",
       "      <th>customer_id</th>\n",
       "      <th>order_time</th>\n",
       "      <th>rating</th>\n",
       "    </tr>\n",
       "  </thead>\n",
       "  <tbody>\n",
       "    <tr>\n",
       "      <th>0</th>\n",
       "      <td>1</td>\n",
       "      <td>1</td>\n",
       "      <td>101</td>\n",
       "      <td>2021-01-01 18:05:02</td>\n",
       "      <td>2</td>\n",
       "    </tr>\n",
       "    <tr>\n",
       "      <th>1</th>\n",
       "      <td>2</td>\n",
       "      <td>1</td>\n",
       "      <td>101</td>\n",
       "      <td>2021-01-01 19:00:52</td>\n",
       "      <td>5</td>\n",
       "    </tr>\n",
       "    <tr>\n",
       "      <th>2</th>\n",
       "      <td>3</td>\n",
       "      <td>1</td>\n",
       "      <td>102</td>\n",
       "      <td>2021-01-02 23:51:23</td>\n",
       "      <td>3</td>\n",
       "    </tr>\n",
       "    <tr>\n",
       "      <th>3</th>\n",
       "      <td>4</td>\n",
       "      <td>2</td>\n",
       "      <td>103</td>\n",
       "      <td>2021-01-04 13:23:46</td>\n",
       "      <td>4</td>\n",
       "    </tr>\n",
       "    <tr>\n",
       "      <th>4</th>\n",
       "      <td>5</td>\n",
       "      <td>3</td>\n",
       "      <td>104</td>\n",
       "      <td>2021-01-08 21:00:29</td>\n",
       "      <td>5</td>\n",
       "    </tr>\n",
       "    <tr>\n",
       "      <th>5</th>\n",
       "      <td>7</td>\n",
       "      <td>2</td>\n",
       "      <td>105</td>\n",
       "      <td>2021-01-08 21:20:29</td>\n",
       "      <td>4</td>\n",
       "    </tr>\n",
       "    <tr>\n",
       "      <th>6</th>\n",
       "      <td>8</td>\n",
       "      <td>2</td>\n",
       "      <td>102</td>\n",
       "      <td>2021-01-09 23:54:33</td>\n",
       "      <td>1</td>\n",
       "    </tr>\n",
       "    <tr>\n",
       "      <th>7</th>\n",
       "      <td>10</td>\n",
       "      <td>1</td>\n",
       "      <td>104</td>\n",
       "      <td>2021-01-11 18:34:49</td>\n",
       "      <td>3</td>\n",
       "    </tr>\n",
       "  </tbody>\n",
       "</table>\n",
       "</div>"
      ],
      "text/plain": [
       "   order_id  runner_id  customer_id          order_time  rating\n",
       "0         1          1          101 2021-01-01 18:05:02       2\n",
       "1         2          1          101 2021-01-01 19:00:52       5\n",
       "2         3          1          102 2021-01-02 23:51:23       3\n",
       "3         4          2          103 2021-01-04 13:23:46       4\n",
       "4         5          3          104 2021-01-08 21:00:29       5\n",
       "5         7          2          105 2021-01-08 21:20:29       4\n",
       "6         8          2          102 2021-01-09 23:54:33       1\n",
       "7        10          1          104 2021-01-11 18:34:49       3"
      ]
     },
     "execution_count": 33,
     "metadata": {},
     "output_type": "execute_result"
    }
   ],
   "source": [
    "ratings = runner_orders[runner_orders.cancellation.isnull()][['order_id','runner_id']].merge(orders[['order_id','customer_id','order_time']],on='order_id')\n",
    "ratings.drop_duplicates(inplace=True,ignore_index=True)\n",
    "ratings['rating']=[2,5,3,4,5,4,1,3]\n",
    "ratings"
   ]
  },
  {
   "cell_type": "markdown",
   "metadata": {},
   "source": [
    "Using your newly generated table - can you join all of the information together to form a table which has the following information for successful deliveries?<br>\n",
    "o\tcustomer_id<br>\n",
    "o\torder_id<br>\n",
    "o\trunner_id<br>\n",
    "o\trating<br>\n",
    "o\torder_time<br>\n",
    "o\tpickup_time<br>\n",
    "o\tTime between order and pickup<br>\n",
    "o\tDelivery duration<br>\n",
    "o\tAverage speed<br>\n",
    "o\tTotal number of pizzas<br>\n"
   ]
  },
  {
   "cell_type": "code",
   "execution_count": 34,
   "metadata": {
    "scrolled": true
   },
   "outputs": [
    {
     "data": {
      "text/html": [
       "<div>\n",
       "<style scoped>\n",
       "    .dataframe tbody tr th:only-of-type {\n",
       "        vertical-align: middle;\n",
       "    }\n",
       "\n",
       "    .dataframe tbody tr th {\n",
       "        vertical-align: top;\n",
       "    }\n",
       "\n",
       "    .dataframe thead th {\n",
       "        text-align: right;\n",
       "    }\n",
       "</style>\n",
       "<table border=\"1\" class=\"dataframe\">\n",
       "  <thead>\n",
       "    <tr style=\"text-align: right;\">\n",
       "      <th></th>\n",
       "      <th>order_id</th>\n",
       "      <th>customer_id</th>\n",
       "      <th>order_time</th>\n",
       "      <th>no_pizza</th>\n",
       "      <th>runner_id</th>\n",
       "      <th>pickup_time</th>\n",
       "      <th>rating</th>\n",
       "      <th>duration</th>\n",
       "      <th>avg_speed</th>\n",
       "      <th>time_between_order_pickup</th>\n",
       "    </tr>\n",
       "  </thead>\n",
       "  <tbody>\n",
       "    <tr>\n",
       "      <th>0</th>\n",
       "      <td>1</td>\n",
       "      <td>101</td>\n",
       "      <td>2021-01-01 18:05:02</td>\n",
       "      <td>1</td>\n",
       "      <td>1</td>\n",
       "      <td>2021-01-01 18:15:34</td>\n",
       "      <td>2</td>\n",
       "      <td>32.0</td>\n",
       "      <td>37.50</td>\n",
       "      <td>0 days 00:10:32</td>\n",
       "    </tr>\n",
       "    <tr>\n",
       "      <th>1</th>\n",
       "      <td>2</td>\n",
       "      <td>101</td>\n",
       "      <td>2021-01-01 19:00:52</td>\n",
       "      <td>1</td>\n",
       "      <td>1</td>\n",
       "      <td>2021-01-01 19:10:54</td>\n",
       "      <td>5</td>\n",
       "      <td>27.0</td>\n",
       "      <td>44.44</td>\n",
       "      <td>0 days 00:10:02</td>\n",
       "    </tr>\n",
       "    <tr>\n",
       "      <th>2</th>\n",
       "      <td>3</td>\n",
       "      <td>102</td>\n",
       "      <td>2021-01-02 23:51:23</td>\n",
       "      <td>2</td>\n",
       "      <td>1</td>\n",
       "      <td>2021-01-03 00:12:37</td>\n",
       "      <td>3</td>\n",
       "      <td>20.0</td>\n",
       "      <td>40.20</td>\n",
       "      <td>0 days 00:21:14</td>\n",
       "    </tr>\n",
       "    <tr>\n",
       "      <th>3</th>\n",
       "      <td>4</td>\n",
       "      <td>103</td>\n",
       "      <td>2021-01-04 13:23:46</td>\n",
       "      <td>3</td>\n",
       "      <td>2</td>\n",
       "      <td>2021-01-04 13:53:03</td>\n",
       "      <td>4</td>\n",
       "      <td>40.0</td>\n",
       "      <td>35.10</td>\n",
       "      <td>0 days 00:29:17</td>\n",
       "    </tr>\n",
       "    <tr>\n",
       "      <th>4</th>\n",
       "      <td>5</td>\n",
       "      <td>104</td>\n",
       "      <td>2021-01-08 21:00:29</td>\n",
       "      <td>1</td>\n",
       "      <td>3</td>\n",
       "      <td>2021-01-08 21:10:57</td>\n",
       "      <td>5</td>\n",
       "      <td>15.0</td>\n",
       "      <td>40.00</td>\n",
       "      <td>0 days 00:10:28</td>\n",
       "    </tr>\n",
       "    <tr>\n",
       "      <th>5</th>\n",
       "      <td>7</td>\n",
       "      <td>105</td>\n",
       "      <td>2021-01-08 21:20:29</td>\n",
       "      <td>1</td>\n",
       "      <td>2</td>\n",
       "      <td>2021-01-08 21:30:45</td>\n",
       "      <td>4</td>\n",
       "      <td>25.0</td>\n",
       "      <td>60.00</td>\n",
       "      <td>0 days 00:10:16</td>\n",
       "    </tr>\n",
       "    <tr>\n",
       "      <th>6</th>\n",
       "      <td>8</td>\n",
       "      <td>102</td>\n",
       "      <td>2021-01-09 23:54:33</td>\n",
       "      <td>1</td>\n",
       "      <td>2</td>\n",
       "      <td>2021-01-10 00:15:02</td>\n",
       "      <td>1</td>\n",
       "      <td>15.0</td>\n",
       "      <td>93.60</td>\n",
       "      <td>0 days 00:20:29</td>\n",
       "    </tr>\n",
       "    <tr>\n",
       "      <th>7</th>\n",
       "      <td>10</td>\n",
       "      <td>104</td>\n",
       "      <td>2021-01-11 18:34:49</td>\n",
       "      <td>2</td>\n",
       "      <td>1</td>\n",
       "      <td>2021-01-11 18:50:20</td>\n",
       "      <td>3</td>\n",
       "      <td>10.0</td>\n",
       "      <td>60.00</td>\n",
       "      <td>0 days 00:15:31</td>\n",
       "    </tr>\n",
       "  </tbody>\n",
       "</table>\n",
       "</div>"
      ],
      "text/plain": [
       "   order_id  customer_id          order_time  no_pizza  runner_id  \\\n",
       "0         1          101 2021-01-01 18:05:02         1          1   \n",
       "1         2          101 2021-01-01 19:00:52         1          1   \n",
       "2         3          102 2021-01-02 23:51:23         2          1   \n",
       "3         4          103 2021-01-04 13:23:46         3          2   \n",
       "4         5          104 2021-01-08 21:00:29         1          3   \n",
       "5         7          105 2021-01-08 21:20:29         1          2   \n",
       "6         8          102 2021-01-09 23:54:33         1          2   \n",
       "7        10          104 2021-01-11 18:34:49         2          1   \n",
       "\n",
       "          pickup_time  rating  duration  avg_speed time_between_order_pickup  \n",
       "0 2021-01-01 18:15:34       2      32.0      37.50           0 days 00:10:32  \n",
       "1 2021-01-01 19:10:54       5      27.0      44.44           0 days 00:10:02  \n",
       "2 2021-01-03 00:12:37       3      20.0      40.20           0 days 00:21:14  \n",
       "3 2021-01-04 13:53:03       4      40.0      35.10           0 days 00:29:17  \n",
       "4 2021-01-08 21:10:57       5      15.0      40.00           0 days 00:10:28  \n",
       "5 2021-01-08 21:30:45       4      25.0      60.00           0 days 00:10:16  \n",
       "6 2021-01-10 00:15:02       1      15.0      93.60           0 days 00:20:29  \n",
       "7 2021-01-11 18:50:20       3      10.0      60.00           0 days 00:15:31  "
      ]
     },
     "execution_count": 34,
     "metadata": {},
     "output_type": "execute_result"
    }
   ],
   "source": [
    "x= runner_orders[runner_orders['cancellation'].isnull()].copy()\n",
    "y = x['duration'].dropna().astype(str).str.strip()\n",
    "y=np.array(y.str.extract('([^a-zA-z]+)')).astype(float)\n",
    "y.astype(int)\n",
    "x['duration']=y\n",
    "\n",
    "df_d41=orders.groupby(['order_id','customer_id','order_time'],as_index = False)['pizza_id'].count()\n",
    "df_d41 = df_d41.merge(df_b21[['runner_id','pickup_time','order_id']],on='order_id')\\\n",
    ".merge(ratings[['order_id','rating']],on='order_id')\\\n",
    ".merge( x[['order_id','duration','runner_id']],on = ['order_id','runner_id'])\\\n",
    ".merge(df_b61[['runner_id','order_id','avg_speed']],on=['order_id','runner_id'])\n",
    "df_d41.rename(columns={'pizza_id':'no_pizza'},inplace=True)\n",
    "df_d41['time_between_order_pickup']=df_d41['pickup_time']-df_d41['order_time']\n",
    "\n",
    "df_d41"
   ]
  },
  {
   "cell_type": "markdown",
   "metadata": {},
   "source": [
    "If a Meat Lovers pizza was \\\\$12 and Vegetarian \\\\$10 fixed prices with no cost for extras and each runner is paid $0.30 per kilometre traveled - how much money does Pizza Runner have left over after these deliveries?"
   ]
  },
  {
   "cell_type": "code",
   "execution_count": 35,
   "metadata": {},
   "outputs": [
    {
     "name": "stdout",
     "output_type": "stream",
     "text": [
      "Money in dollars: 82.44\n"
     ]
    }
   ],
   "source": [
    "runner_payment = sum(df_b61['distance'])*0.3\n",
    "print(\"Money in dollars:\",df_d11[df_d11['pizza_id']==1]['pizza_id'].count()*10 \\\n",
    "      +df_d11[df_d11['pizza_id']==2]['pizza_id'].count()*12-runner_payment)"
   ]
  }
 ],
 "metadata": {
  "kernelspec": {
   "display_name": "Python 3",
   "language": "python",
   "name": "python3"
  },
  "language_info": {
   "codemirror_mode": {
    "name": "ipython",
    "version": 3
   },
   "file_extension": ".py",
   "mimetype": "text/x-python",
   "name": "python",
   "nbconvert_exporter": "python",
   "pygments_lexer": "ipython3",
   "version": "3.8.8"
  }
 },
 "nbformat": 4,
 "nbformat_minor": 4
}
