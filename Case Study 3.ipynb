{
 "cells": [
  {
   "cell_type": "markdown",
   "id": "0edff63d",
   "metadata": {},
   "source": [
    "<b><center><font size=\"5\">CUSTOMER ANALYSIS</font></center></b>  "
   ]
  },
  {
   "cell_type": "code",
   "execution_count": 1,
   "id": "2b7f4345",
   "metadata": {},
   "outputs": [],
   "source": [
    "#Importing libraries \n",
    "import pandas as pd\n",
    "import numpy as np\n",
    "from datetime import datetime as dt\n",
    "import matplotlib.pyplot as plt\n",
    "import seaborn as sns \n",
    "import random\n",
    "#set seaborn as default\n",
    "sns.set()"
   ]
  },
  {
   "cell_type": "code",
   "execution_count": 2,
   "id": "9c916cfa",
   "metadata": {},
   "outputs": [],
   "source": [
    "# Read the file into a DataFrame\n",
    "subscription = pd.read_excel(\"CS3_Dataset.xlsx\",sheet_name = 'Subscription')\n",
    "plan = pd.read_excel(\"CS3_Dataset.xlsx\",sheet_name = 'Plans')"
   ]
  },
  {
   "cell_type": "code",
   "execution_count": 3,
   "id": "08421a33",
   "metadata": {},
   "outputs": [
    {
     "data": {
      "text/html": [
       "<div>\n",
       "<style scoped>\n",
       "    .dataframe tbody tr th:only-of-type {\n",
       "        vertical-align: middle;\n",
       "    }\n",
       "\n",
       "    .dataframe tbody tr th {\n",
       "        vertical-align: top;\n",
       "    }\n",
       "\n",
       "    .dataframe thead th {\n",
       "        text-align: right;\n",
       "    }\n",
       "</style>\n",
       "<table border=\"1\" class=\"dataframe\">\n",
       "  <thead>\n",
       "    <tr style=\"text-align: right;\">\n",
       "      <th></th>\n",
       "      <th>plan_id</th>\n",
       "      <th>plan_name</th>\n",
       "      <th>price</th>\n",
       "    </tr>\n",
       "  </thead>\n",
       "  <tbody>\n",
       "    <tr>\n",
       "      <th>0</th>\n",
       "      <td>0</td>\n",
       "      <td>trial</td>\n",
       "      <td>0.0</td>\n",
       "    </tr>\n",
       "    <tr>\n",
       "      <th>1</th>\n",
       "      <td>1</td>\n",
       "      <td>basic monthly</td>\n",
       "      <td>9.9</td>\n",
       "    </tr>\n",
       "    <tr>\n",
       "      <th>2</th>\n",
       "      <td>2</td>\n",
       "      <td>pro monthly</td>\n",
       "      <td>19.9</td>\n",
       "    </tr>\n",
       "    <tr>\n",
       "      <th>3</th>\n",
       "      <td>3</td>\n",
       "      <td>pro annual</td>\n",
       "      <td>199.0</td>\n",
       "    </tr>\n",
       "    <tr>\n",
       "      <th>4</th>\n",
       "      <td>4</td>\n",
       "      <td>churn</td>\n",
       "      <td>NaN</td>\n",
       "    </tr>\n",
       "  </tbody>\n",
       "</table>\n",
       "</div>"
      ],
      "text/plain": [
       "   plan_id      plan_name  price\n",
       "0        0          trial    0.0\n",
       "1        1  basic monthly    9.9\n",
       "2        2    pro monthly   19.9\n",
       "3        3     pro annual  199.0\n",
       "4        4          churn    NaN"
      ]
     },
     "execution_count": 3,
     "metadata": {},
     "output_type": "execute_result"
    }
   ],
   "source": [
    "plan.head()"
   ]
  },
  {
   "cell_type": "code",
   "execution_count": 4,
   "id": "33fe2ff0",
   "metadata": {},
   "outputs": [
    {
     "data": {
      "text/html": [
       "<div>\n",
       "<style scoped>\n",
       "    .dataframe tbody tr th:only-of-type {\n",
       "        vertical-align: middle;\n",
       "    }\n",
       "\n",
       "    .dataframe tbody tr th {\n",
       "        vertical-align: top;\n",
       "    }\n",
       "\n",
       "    .dataframe thead th {\n",
       "        text-align: right;\n",
       "    }\n",
       "</style>\n",
       "<table border=\"1\" class=\"dataframe\">\n",
       "  <thead>\n",
       "    <tr style=\"text-align: right;\">\n",
       "      <th></th>\n",
       "      <th>Customer_id</th>\n",
       "      <th>plan_id</th>\n",
       "      <th>start_date</th>\n",
       "    </tr>\n",
       "  </thead>\n",
       "  <tbody>\n",
       "    <tr>\n",
       "      <th>0</th>\n",
       "      <td>1</td>\n",
       "      <td>0.0</td>\n",
       "      <td>2020-08-01T00:00:00.000Z</td>\n",
       "    </tr>\n",
       "    <tr>\n",
       "      <th>1</th>\n",
       "      <td>1</td>\n",
       "      <td>1.0</td>\n",
       "      <td>2020-08-08T00:00:00.000Z</td>\n",
       "    </tr>\n",
       "    <tr>\n",
       "      <th>2</th>\n",
       "      <td>2</td>\n",
       "      <td>0.0</td>\n",
       "      <td>2020-09-20T00:00:00.000Z</td>\n",
       "    </tr>\n",
       "    <tr>\n",
       "      <th>3</th>\n",
       "      <td>2</td>\n",
       "      <td>3.0</td>\n",
       "      <td>2020-09-27T00:00:00.000Z</td>\n",
       "    </tr>\n",
       "    <tr>\n",
       "      <th>4</th>\n",
       "      <td>3</td>\n",
       "      <td>0.0</td>\n",
       "      <td>2020-01-13T00:00:00.000Z</td>\n",
       "    </tr>\n",
       "  </tbody>\n",
       "</table>\n",
       "</div>"
      ],
      "text/plain": [
       "  Customer_id  plan_id                start_date\n",
       "0           1      0.0  2020-08-01T00:00:00.000Z\n",
       "1           1      1.0  2020-08-08T00:00:00.000Z\n",
       "2           2      0.0  2020-09-20T00:00:00.000Z\n",
       "3           2      3.0  2020-09-27T00:00:00.000Z\n",
       "4           3      0.0  2020-01-13T00:00:00.000Z"
      ]
     },
     "execution_count": 4,
     "metadata": {},
     "output_type": "execute_result"
    }
   ],
   "source": [
    "subscription.head()"
   ]
  },
  {
   "cell_type": "code",
   "execution_count": 5,
   "id": "d570ddb2",
   "metadata": {},
   "outputs": [
    {
     "name": "stdout",
     "output_type": "stream",
     "text": [
      "<class 'pandas.core.frame.DataFrame'>\n",
      "RangeIndex: 2654 entries, 0 to 2653\n",
      "Data columns (total 3 columns):\n",
      " #   Column       Non-Null Count  Dtype  \n",
      "---  ------       --------------  -----  \n",
      " 0   Customer_id  2653 non-null   object \n",
      " 1   plan_id      2650 non-null   float64\n",
      " 2   start_date   2650 non-null   object \n",
      "dtypes: float64(1), object(2)\n",
      "memory usage: 62.3+ KB\n"
     ]
    }
   ],
   "source": [
    "#Data Summary \n",
    "subscription.info() "
   ]
  },
  {
   "cell_type": "code",
   "execution_count": 6,
   "id": "47e64015",
   "metadata": {},
   "outputs": [],
   "source": [
    "#Coverting object \"start_date\" to datetime type \n",
    "subscription['start_date'] = pd.to_datetime(subscription['start_date'])"
   ]
  },
  {
   "cell_type": "code",
   "execution_count": 7,
   "id": "7c4d8701",
   "metadata": {},
   "outputs": [
    {
     "data": {
      "text/plain": [
       "Customer_id    1\n",
       "plan_id        4\n",
       "start_date     4\n",
       "dtype: int64"
      ]
     },
     "execution_count": 7,
     "metadata": {},
     "output_type": "execute_result"
    }
   ],
   "source": [
    "subscription.isna().sum()"
   ]
  },
  {
   "cell_type": "code",
   "execution_count": 8,
   "id": "2e858da0",
   "metadata": {},
   "outputs": [
    {
     "data": {
      "text/html": [
       "<div>\n",
       "<style scoped>\n",
       "    .dataframe tbody tr th:only-of-type {\n",
       "        vertical-align: middle;\n",
       "    }\n",
       "\n",
       "    .dataframe tbody tr th {\n",
       "        vertical-align: top;\n",
       "    }\n",
       "\n",
       "    .dataframe thead th {\n",
       "        text-align: right;\n",
       "    }\n",
       "</style>\n",
       "<table border=\"1\" class=\"dataframe\">\n",
       "  <thead>\n",
       "    <tr style=\"text-align: right;\">\n",
       "      <th></th>\n",
       "      <th>Customer_id</th>\n",
       "      <th>plan_id</th>\n",
       "      <th>start_date</th>\n",
       "    </tr>\n",
       "  </thead>\n",
       "  <tbody>\n",
       "    <tr>\n",
       "      <th>2650</th>\n",
       "      <td>NaN</td>\n",
       "      <td>NaN</td>\n",
       "      <td>NaT</td>\n",
       "    </tr>\n",
       "  </tbody>\n",
       "</table>\n",
       "</div>"
      ],
      "text/plain": [
       "     Customer_id  plan_id start_date\n",
       "2650         NaN      NaN        NaT"
      ]
     },
     "execution_count": 8,
     "metadata": {},
     "output_type": "execute_result"
    }
   ],
   "source": [
    "subscription[subscription['Customer_id'].isnull()==True]"
   ]
  },
  {
   "cell_type": "code",
   "execution_count": 9,
   "id": "8f1419d0",
   "metadata": {
    "scrolled": true
   },
   "outputs": [
    {
     "data": {
      "text/html": [
       "<div>\n",
       "<style scoped>\n",
       "    .dataframe tbody tr th:only-of-type {\n",
       "        vertical-align: middle;\n",
       "    }\n",
       "\n",
       "    .dataframe tbody tr th {\n",
       "        vertical-align: top;\n",
       "    }\n",
       "\n",
       "    .dataframe thead th {\n",
       "        text-align: right;\n",
       "    }\n",
       "</style>\n",
       "<table border=\"1\" class=\"dataframe\">\n",
       "  <thead>\n",
       "    <tr style=\"text-align: right;\">\n",
       "      <th></th>\n",
       "      <th>Customer_id</th>\n",
       "      <th>plan_id</th>\n",
       "      <th>start_date</th>\n",
       "    </tr>\n",
       "  </thead>\n",
       "  <tbody>\n",
       "    <tr>\n",
       "      <th>2650</th>\n",
       "      <td>NaN</td>\n",
       "      <td>NaN</td>\n",
       "      <td>NaT</td>\n",
       "    </tr>\n",
       "    <tr>\n",
       "      <th>2651</th>\n",
       "      <td>DB Fiddle – Crafted with ♥ by Status200 in the...</td>\n",
       "      <td>NaN</td>\n",
       "      <td>NaT</td>\n",
       "    </tr>\n",
       "    <tr>\n",
       "      <th>2652</th>\n",
       "      <td>Terms of Use • Privacy / Cookie Policy • Statu...</td>\n",
       "      <td>NaN</td>\n",
       "      <td>NaT</td>\n",
       "    </tr>\n",
       "    <tr>\n",
       "      <th>2653</th>\n",
       "      <td>×</td>\n",
       "      <td>NaN</td>\n",
       "      <td>NaT</td>\n",
       "    </tr>\n",
       "  </tbody>\n",
       "</table>\n",
       "</div>"
      ],
      "text/plain": [
       "                                            Customer_id  plan_id start_date\n",
       "2650                                                NaN      NaN        NaT\n",
       "2651  DB Fiddle – Crafted with ♥ by Status200 in the...      NaN        NaT\n",
       "2652  Terms of Use • Privacy / Cookie Policy • Statu...      NaN        NaT\n",
       "2653                                                  ×      NaN        NaT"
      ]
     },
     "execution_count": 9,
     "metadata": {},
     "output_type": "execute_result"
    }
   ],
   "source": [
    "subscription[subscription['plan_id'].isnull()==True]"
   ]
  },
  {
   "cell_type": "code",
   "execution_count": 10,
   "id": "ae9ee798",
   "metadata": {
    "scrolled": true
   },
   "outputs": [
    {
     "data": {
      "text/html": [
       "<div>\n",
       "<style scoped>\n",
       "    .dataframe tbody tr th:only-of-type {\n",
       "        vertical-align: middle;\n",
       "    }\n",
       "\n",
       "    .dataframe tbody tr th {\n",
       "        vertical-align: top;\n",
       "    }\n",
       "\n",
       "    .dataframe thead th {\n",
       "        text-align: right;\n",
       "    }\n",
       "</style>\n",
       "<table border=\"1\" class=\"dataframe\">\n",
       "  <thead>\n",
       "    <tr style=\"text-align: right;\">\n",
       "      <th></th>\n",
       "      <th>Customer_id</th>\n",
       "      <th>plan_id</th>\n",
       "      <th>start_date</th>\n",
       "    </tr>\n",
       "  </thead>\n",
       "  <tbody>\n",
       "    <tr>\n",
       "      <th>2650</th>\n",
       "      <td>NaN</td>\n",
       "      <td>NaN</td>\n",
       "      <td>NaT</td>\n",
       "    </tr>\n",
       "    <tr>\n",
       "      <th>2651</th>\n",
       "      <td>DB Fiddle – Crafted with ♥ by Status200 in the...</td>\n",
       "      <td>NaN</td>\n",
       "      <td>NaT</td>\n",
       "    </tr>\n",
       "    <tr>\n",
       "      <th>2652</th>\n",
       "      <td>Terms of Use • Privacy / Cookie Policy • Statu...</td>\n",
       "      <td>NaN</td>\n",
       "      <td>NaT</td>\n",
       "    </tr>\n",
       "    <tr>\n",
       "      <th>2653</th>\n",
       "      <td>×</td>\n",
       "      <td>NaN</td>\n",
       "      <td>NaT</td>\n",
       "    </tr>\n",
       "  </tbody>\n",
       "</table>\n",
       "</div>"
      ],
      "text/plain": [
       "                                            Customer_id  plan_id start_date\n",
       "2650                                                NaN      NaN        NaT\n",
       "2651  DB Fiddle – Crafted with ♥ by Status200 in the...      NaN        NaT\n",
       "2652  Terms of Use • Privacy / Cookie Policy • Statu...      NaN        NaT\n",
       "2653                                                  ×      NaN        NaT"
      ]
     },
     "execution_count": 10,
     "metadata": {},
     "output_type": "execute_result"
    }
   ],
   "source": [
    "subscription[subscription['start_date'].isnull()==True]"
   ]
  },
  {
   "cell_type": "code",
   "execution_count": 11,
   "id": "e5b31f42",
   "metadata": {},
   "outputs": [],
   "source": [
    "subscription = subscription[subscription.start_date.notnull()]"
   ]
  },
  {
   "cell_type": "code",
   "execution_count": 12,
   "id": "f0e21935",
   "metadata": {
    "scrolled": false
   },
   "outputs": [
    {
     "data": {
      "text/plain": [
       "1000"
      ]
     },
     "execution_count": 12,
     "metadata": {},
     "output_type": "execute_result"
    }
   ],
   "source": [
    "#Checking to see how many unique customers are there \n",
    "subscription['Customer_id'].nunique()"
   ]
  },
  {
   "cell_type": "markdown",
   "id": "1feedf67",
   "metadata": {},
   "source": [
    "<b> A. Customer Journey </b>\n",
    "\n",
    "Based off on random 8 customer samples, I have shown the journey of customers with their subscription plans"
   ]
  },
  {
   "cell_type": "code",
   "execution_count": 13,
   "id": "cd6895d4",
   "metadata": {},
   "outputs": [
    {
     "name": "stdout",
     "output_type": "stream",
     "text": [
      "Selected 8 customers are [4, 268, 595, 51, 972, 725, 823, 413]\n"
     ]
    }
   ],
   "source": [
    "customers = []\n",
    "for i in range(0,8):\n",
    "    customers.append(random.randint(1, 1000))\n",
    "print(\"Selected 8 customers are\", customers)\n",
    "\n",
    "df_a = subscription[ subscription['Customer_id'].isin(customers) ].copy()\n",
    "\n",
    "\n",
    "#Ranking \n",
    "df_a['Rank']= df_a.groupby('Customer_id')['start_date'].rank()\n",
    "df_a.sort_values(by=['Customer_id','Rank'], inplace=True)\n",
    "df_a['days']=df_a['start_date'].diff()/ np.timedelta64(1, 'D')\n",
    "df_a.loc[ df_a['Rank'] == 1.0, 'days'] = ''\n",
    "\n",
    "#Change datatype from float to int \n",
    "df_a['plan_id']=df_a['plan_id'].astype(int)\n",
    "df_a\n",
    "\n",
    "df_a = df_a.merge(plan,on = 'plan_id')\n",
    "df_a = df_a.sort_values(['Customer_id','start_date'])\n",
    "df_a.reset_index(drop = True, inplace = True)"
   ]
  },
  {
   "cell_type": "code",
   "execution_count": 14,
   "id": "36cc27d0",
   "metadata": {},
   "outputs": [
    {
     "data": {
      "image/png": "[encoded data removed]",
      "text/plain": [
       "<Figure size 360x1080 with 3 Axes>"
      ]
     },
     "metadata": {},
     "output_type": "display_data"
    }
   ],
   "source": [
    "df_b = df_a.groupby(['Rank','plan_name'],as_index= False)['Customer_id'].count()\n",
    "plt.figure(figsize=(5,15)) \n",
    "plt.subplot(3, 1, 1)\n",
    "plt.pie(df_b[df_b['Rank']==1.0]['Customer_id'], labels = df_b[df_b['Rank']==1.0]['plan_name'],autopct=\"%.1f%%\")\n",
    "plt.subplot(3, 1, 2)\n",
    "plt.pie(df_b[df_b['Rank']==2.0]['Customer_id'], labels = df_b[df_b['Rank']==2.0]['plan_name'],autopct=\"%.1f%%\")\n",
    "plt.subplot(3, 1, 3)\n",
    "plt.pie(df_b[df_b['Rank']==3.0]['Customer_id'], labels = df_b[df_b['Rank']==3.0]['plan_name'],autopct=\"%.1f%%\")\n",
    "plt.show()"
   ]
  },
  {
   "cell_type": "markdown",
   "id": "ef4ea658",
   "metadata": {},
   "source": [
    "<b> 2. Data Analysis Questions </b>"
   ]
  },
  {
   "cell_type": "markdown",
   "id": "33c5748f",
   "metadata": {},
   "source": [
    "1.\tHow many customers has Foodie-Fi ever had?"
   ]
  },
  {
   "cell_type": "code",
   "execution_count": 15,
   "id": "374a92f8",
   "metadata": {},
   "outputs": [
    {
     "data": {
      "text/plain": [
       "1000"
      ]
     },
     "execution_count": 15,
     "metadata": {},
     "output_type": "execute_result"
    }
   ],
   "source": [
    "subscription['Customer_id'].nunique()"
   ]
  },
  {
   "cell_type": "markdown",
   "id": "2e130be6",
   "metadata": {},
   "source": [
    "2.\tWhat is the monthly distribution of trial plan start_date values for our dataset - use the start of the month as the group by value"
   ]
  },
  {
   "cell_type": "code",
   "execution_count": 16,
   "id": "a7166f2e",
   "metadata": {
    "scrolled": true
   },
   "outputs": [
    {
     "name": "stderr",
     "output_type": "stream",
     "text": [
      "C:\\Users\\sprab\\anaconda3\\lib\\site-packages\\pandas\\core\\arrays\\datetimes.py:1101: UserWarning: Converting to PeriodArray/Index representation will drop timezone information.\n",
      "  warnings.warn(\n"
     ]
    },
    {
     "data": {
      "image/png": "[encoded data removed]",
      "text/plain": [
       "<Figure size 432x288 with 1 Axes>"
      ]
     },
     "metadata": {},
     "output_type": "display_data"
    }
   ],
   "source": [
    "subscription['Year_Month'] =subscription['start_date'].dt.to_period('M')\n",
    "subscription['Start_Month']=pd.DatetimeIndex(subscription['start_date']).month\n",
    "\n",
    "\n",
    "df_b2 = subscription[subscription.plan_id==0.0].groupby(['Start_Month'],as_index=False)['plan_id'].count()\n",
    "plt.plot(df_b2['Start_Month'],df_b2['plan_id'])\n",
    "plt.show()"
   ]
  },
  {
   "cell_type": "markdown",
   "id": "d2b9ab7f",
   "metadata": {},
   "source": [
    "3. What plan start_date values occur after the year 2020 for our dataset? Show the breakdown by count of events for each plan_name"
   ]
  },
  {
   "cell_type": "code",
   "execution_count": 17,
   "id": "5b732979",
   "metadata": {
    "scrolled": true
   },
   "outputs": [
    {
     "data": {
      "image/png": "[encoded data removed]",
      "text/plain": [
       "<Figure size 1080x360 with 1 Axes>"
      ]
     },
     "metadata": {},
     "output_type": "display_data"
    }
   ],
   "source": [
    "subscription=subscription.merge(plan[['plan_id','plan_name']],on='plan_id')\n",
    "\n",
    "df_b3 = subscription.groupby(['Year_Month','plan_name'],as_index=False)['Customer_id'].count()\n",
    "\n",
    "plt.figure(figsize=(15,5)) \n",
    "df_b3['Year_Month']=df_b3['Year_Month'].astype(str)\n",
    "sns.lineplot(x='Year_Month',y='Customer_id',hue='plan_name',data=df_b3[df_b3.Year_Month>'2020-12'])\n",
    "plt.xlabel(\"Month\")\n",
    "plt.ylabel(\"No. of Customers\")\n",
    "plt.show()"
   ]
  },
  {
   "cell_type": "markdown",
   "id": "2027b3cf",
   "metadata": {},
   "source": [
    "4.\tWhat is the customer count and percentage of customers who have churned rounded to 1 decimal place?"
   ]
  },
  {
   "cell_type": "code",
   "execution_count": 18,
   "id": "48b38a8f",
   "metadata": {},
   "outputs": [
    {
     "name": "stdout",
     "output_type": "stream",
     "text": [
      "Customers who have churned :  307\n",
      "Percentage of customers who have churned :  11.6\n"
     ]
    }
   ],
   "source": [
    "count =  subscription['Customer_id'][subscription['plan_name']=='churn'].count()\n",
    "percent = subscription['Customer_id'][subscription['plan_name']=='churn'].count()/subscription['Customer_id'].count() * 100\n",
    "print(\"Customers who have churned : \",count)\n",
    "print(\"Percentage of customers who have churned : \",round(percent,1))"
   ]
  },
  {
   "cell_type": "markdown",
   "id": "d76d2d4e",
   "metadata": {},
   "source": [
    "5.\tHow many customers have churned straight after their initial free trial - what percentage is this rounded to the nearest whole number?"
   ]
  },
  {
   "cell_type": "code",
   "execution_count": 19,
   "id": "012489d7",
   "metadata": {},
   "outputs": [
    {
     "name": "stdout",
     "output_type": "stream",
     "text": [
      "No of Customers :  92\n",
      "Percentage :  9.0 %\n"
     ]
    }
   ],
   "source": [
    "df_5 = subscription.copy()\n",
    "\n",
    "\n",
    "#Ranking \n",
    "df_5['Rank']= df_5.groupby('Customer_id')['start_date'].rank()\n",
    "df_5.sort_values(by=['Customer_id','Rank'], inplace=True)\n",
    "df_5['days']=df_5['start_date'].diff()/ np.timedelta64(1, 'D')\n",
    "df_5.loc[ df_5['Rank'] == 1.0, 'days'] = ''\n",
    "\n",
    "#Change datatype from float to int \n",
    "df_5['plan_id']=df_5['plan_id'].astype(int)\n",
    "df_5\n",
    "\n",
    "df_5 = df_5.sort_values(['Customer_id','start_date'])\n",
    "df_5.reset_index(drop = True, inplace = True)\n",
    "\n",
    "print(\"No of Customers : \",df_5['Customer_id'][(df_5['plan_name' ]==\"churn\") &(df_5['Rank']==2.0)].count())\n",
    "print(\"Percentage : \", round(df_5['Customer_id'][(df_5['plan_name' ]==\"churn\") &(df_5['Rank']==2.0)].\\\n",
    "                             count()/df_5['Customer_id'].nunique()*100,0),\"%\")"
   ]
  },
  {
   "cell_type": "markdown",
   "id": "c7226c9d",
   "metadata": {},
   "source": [
    "6.\tWhat is the number and percentage of customer plans after their initial free trial?"
   ]
  },
  {
   "cell_type": "code",
   "execution_count": 20,
   "id": "f8f46be8",
   "metadata": {},
   "outputs": [
    {
     "data": {
      "image/png": "[encoded data removed]",
      "text/plain": [
       "<Figure size 360x360 with 1 Axes>"
      ]
     },
     "metadata": {},
     "output_type": "display_data"
    },
    {
     "name": "stdout",
     "output_type": "stream",
     "text": [
      "       plan_name  No of Customers\n",
      "1  basic monthly              546\n",
      "2          churn               92\n",
      "3     pro annual               37\n",
      "4    pro monthly              325\n"
     ]
    }
   ],
   "source": [
    "df_6 = df_5.groupby(['Rank','plan_name'], as_index=False)['Customer_id'].count()\n",
    "df_6.rename(columns={'Customer_id': 'No of Customers'}, inplace=True)\n",
    "plt.figure(figsize=(5,5)) \n",
    "plt.pie(df_6[df_6['Rank']==2.0]['No of Customers'], labels = df_6[df_6['Rank']==2.0]['plan_name'],autopct=\"%.1f%%\")\n",
    "plt.show()\n",
    "print(df_6[['plan_name','No of Customers']][df_6['Rank']==2.0])"
   ]
  },
  {
   "cell_type": "markdown",
   "id": "54cf81be",
   "metadata": {},
   "source": [
    "7.\tWhat is the customer count and percentage breakdown of all 5 plan_name values at 2020-12-31?"
   ]
  },
  {
   "cell_type": "code",
   "execution_count": 21,
   "id": "5073c955",
   "metadata": {},
   "outputs": [
    {
     "data": {
      "text/html": [
       "<div>\n",
       "<style scoped>\n",
       "    .dataframe tbody tr th:only-of-type {\n",
       "        vertical-align: middle;\n",
       "    }\n",
       "\n",
       "    .dataframe tbody tr th {\n",
       "        vertical-align: top;\n",
       "    }\n",
       "\n",
       "    .dataframe thead th {\n",
       "        text-align: right;\n",
       "    }\n",
       "</style>\n",
       "<table border=\"1\" class=\"dataframe\">\n",
       "  <thead>\n",
       "    <tr style=\"text-align: right;\">\n",
       "      <th></th>\n",
       "      <th>plan_name</th>\n",
       "      <th>Customer_id</th>\n",
       "      <th>percent</th>\n",
       "    </tr>\n",
       "  </thead>\n",
       "  <tbody>\n",
       "    <tr>\n",
       "      <th>0</th>\n",
       "      <td>basic monthly</td>\n",
       "      <td>224</td>\n",
       "      <td>22.4</td>\n",
       "    </tr>\n",
       "    <tr>\n",
       "      <th>1</th>\n",
       "      <td>churn</td>\n",
       "      <td>236</td>\n",
       "      <td>23.6</td>\n",
       "    </tr>\n",
       "    <tr>\n",
       "      <th>2</th>\n",
       "      <td>pro annual</td>\n",
       "      <td>195</td>\n",
       "      <td>19.5</td>\n",
       "    </tr>\n",
       "    <tr>\n",
       "      <th>3</th>\n",
       "      <td>pro monthly</td>\n",
       "      <td>326</td>\n",
       "      <td>32.6</td>\n",
       "    </tr>\n",
       "    <tr>\n",
       "      <th>4</th>\n",
       "      <td>trial</td>\n",
       "      <td>19</td>\n",
       "      <td>1.9</td>\n",
       "    </tr>\n",
       "  </tbody>\n",
       "</table>\n",
       "</div>"
      ],
      "text/plain": [
       "       plan_name  Customer_id  percent\n",
       "0  basic monthly          224     22.4\n",
       "1          churn          236     23.6\n",
       "2     pro annual          195     19.5\n",
       "3    pro monthly          326     32.6\n",
       "4          trial           19      1.9"
      ]
     },
     "execution_count": 21,
     "metadata": {},
     "output_type": "execute_result"
    }
   ],
   "source": [
    "df_7 = df_5[df_5.Year_Month<='2020-12']\n",
    "df_7a = df_7.groupby('Customer_id',as_index=False)['Rank'].max()\n",
    "df_7b = df_7.merge(df_7a,on= ['Customer_id','Rank'])\n",
    "df_7c = df_7b.groupby('plan_name',as_index = False)['Customer_id'].count()\n",
    "df_7c['percent'] = round((df_7c.Customer_id/1000)*100,2)\n",
    "df_7c"
   ]
  },
  {
   "cell_type": "markdown",
   "id": "ffb0ec6b",
   "metadata": {},
   "source": [
    "8.\tHow many customers have upgraded to an annual plan in 2020?"
   ]
  },
  {
   "cell_type": "code",
   "execution_count": 22,
   "id": "d688880f",
   "metadata": {},
   "outputs": [
    {
     "data": {
      "text/plain": [
       "195"
      ]
     },
     "execution_count": 22,
     "metadata": {},
     "output_type": "execute_result"
    }
   ],
   "source": [
    "df_7['Customer_id'][df_7['plan_name']==\"pro annual\"].count()"
   ]
  },
  {
   "cell_type": "markdown",
   "id": "2c79339c",
   "metadata": {},
   "source": [
    "9.\tHow many days on average does it take for a customer to an annual plan from the day they join Foodie-Fi?"
   ]
  },
  {
   "cell_type": "code",
   "execution_count": 23,
   "id": "6a1d73ea",
   "metadata": {},
   "outputs": [
    {
     "name": "stdout",
     "output_type": "stream",
     "text": [
      "Average no of days :  104\n"
     ]
    }
   ],
   "source": [
    "df_9a = df_5[['Customer_id','start_date']][df_5.Rank == 1.0]\n",
    "df_9b = df_5[['Customer_id','start_date']][df_5.plan_name==\"pro annual\"]\n",
    "df_9c=df_9b.merge(df_9a, on ='Customer_id')\n",
    "print(\"Average no of days : \",np.mean(df_9c['start_date_x']-df_9c['start_date_y']).days)"
   ]
  },
  {
   "cell_type": "markdown",
   "id": "2d19bd2d",
   "metadata": {},
   "source": [
    "10.\tCan you further breakdown this average value into 30 day periods (i.e. 0-30 days, 31-60 days etc)"
   ]
  },
  {
   "cell_type": "code",
   "execution_count": 24,
   "id": "cc4d3668",
   "metadata": {
    "scrolled": false
   },
   "outputs": [],
   "source": [
    "df_9c['days'] = (df_9c['start_date_x']-df_9c['start_date_y']).dt.days"
   ]
  },
  {
   "cell_type": "code",
   "execution_count": 25,
   "id": "7cde0950",
   "metadata": {},
   "outputs": [],
   "source": [
    "df_9c['time_period'] = np.where(\n",
    "     df_9c['days'].between(0, 30, inclusive=True), \n",
    "    '0-30', \n",
    "     np.where(\n",
    "        df_9c['days'].between(31, 60, inclusive=True), \n",
    "         '31-60',\n",
    "         np.where(df_9c['days'].between(61,90,inclusive=True), \n",
    "                  '61-90',\n",
    "                  np.where(df_9c['days'].between(91,120,inclusive=True),\n",
    "                           '91-120',\n",
    "                           np.where(df_9c['days'].between(121,150,inclusive=True),'121-150','More than 120'))\n",
    "                                                                                                    \n",
    "     )\n",
    "))"
   ]
  },
  {
   "cell_type": "code",
   "execution_count": 26,
   "id": "95067306",
   "metadata": {},
   "outputs": [
    {
     "data": {
      "text/plain": [
       "time_period\n",
       "0-30             49\n",
       "121-150          42\n",
       "31-60            24\n",
       "61-90            34\n",
       "91-120           35\n",
       "More than 120    74\n",
       "Name: Customer_id, dtype: int64"
      ]
     },
     "execution_count": 26,
     "metadata": {},
     "output_type": "execute_result"
    }
   ],
   "source": [
    "df_9c.groupby('time_period')['Customer_id'].count()"
   ]
  },
  {
   "cell_type": "markdown",
   "id": "e397687f",
   "metadata": {},
   "source": [
    "11.\tHow many customers downgraded from a pro monthly to a basic monthly plan in 2020?"
   ]
  },
  {
   "cell_type": "code",
   "execution_count": 27,
   "id": "5ff9a2e1",
   "metadata": {},
   "outputs": [
    {
     "data": {
      "text/plain": [
       "0"
      ]
     },
     "execution_count": 27,
     "metadata": {},
     "output_type": "execute_result"
    }
   ],
   "source": [
    "df_11a = df_7[['Customer_id','start_date']][df_7.plan_name==\"pro monthly\"]\n",
    "df_11b = df_7[['Customer_id','start_date']][df_7.plan_name==\"basic monthly\"]\n",
    "df_11c = df_11a.merge(df_11b, on ='Customer_id')\n",
    "df_11d = df_11c[df_11c.start_date_x < df_11c.start_date_y]\n",
    "df_11d['Customer_id'].count()"
   ]
  }
 ],
 "metadata": {
  "kernelspec": {
   "display_name": "Python 3",
   "language": "python",
   "name": "python3"
  },
  "language_info": {
   "codemirror_mode": {
    "name": "ipython",
    "version": 3
   },
   "file_extension": ".py",
   "mimetype": "text/x-python",
   "name": "python",
   "nbconvert_exporter": "python",
   "pygments_lexer": "ipython3",
   "version": "3.8.8"
  }
 },
 "nbformat": 4,
 "nbformat_minor": 5
}
